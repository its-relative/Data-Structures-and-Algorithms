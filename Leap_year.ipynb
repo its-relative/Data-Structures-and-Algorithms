{
 "cells": [
  {
   "cell_type": "markdown",
   "metadata": {},
   "source": [
    "# Leap Year\n",
    "\n",
    "For an input year N, find whether the year is a leap or not. \n",
    " \n",
    "\n",
    "Example 1:\n",
    "\n",
    "Input:\n",
    "N = 4\n",
    "Output:\n",
    "1\n",
    "Explanation:\n",
    "4 is not divisible by 100\n",
    "and is divisible by 4 so its\n",
    "a leap year\n",
    "Example 2:\n",
    "\n",
    "Input:\n",
    "N = 2021\n",
    "Output:\n",
    "0\n",
    "Explanation:\n",
    "2021 is not divisible by 100\n",
    "and is also not divisible by 4\n",
    "so its not a leap year\n",
    "\n",
    "Your Task:\n",
    "You don't need to read input or print anything. Your task is to complete the function isLeap() which takes an integer N as input parameter and returns 1 is N is a leap year and 0 otherwise.\n",
    " \n",
    "\n",
    "Expected Time Complexity: O(1)\n",
    "Expected Space Complexity: O(1)\n",
    "\n",
    "\n",
    "Constraints:\n",
    "1<=N<=9999\n",
    "\n"
   ]
  },
  {
   "cell_type": "code",
   "execution_count": 4,
   "metadata": {},
   "outputs": [
    {
     "name": "stdout",
     "output_type": "stream",
     "text": [
      "0\n"
     ]
    }
   ],
   "source": [
    "class Solution:\n",
    "    def isLeap (self, N):\n",
    "        # code here\n",
    "        if (N % 4 == 0 and N %100 != 0) or N % 400 == 0:\n",
    "            return 1\n",
    "        else:\n",
    "            return 0\n",
    "        \n",
    "if __name__ == '__main__':\n",
    "    t = int(input())\n",
    "    for _ in range(t):\n",
    "        N = int(input())\n",
    "    \n",
    "        ob = Solution()\n",
    "        print(ob.isLeap(N))"
   ]
  }
 ],
 "metadata": {
  "kernelspec": {
   "display_name": "Python 3",
   "language": "python",
   "name": "python3"
  },
  "language_info": {
   "codemirror_mode": {
    "name": "ipython",
    "version": 3
   },
   "file_extension": ".py",
   "mimetype": "text/x-python",
   "name": "python",
   "nbconvert_exporter": "python",
   "pygments_lexer": "ipython3",
   "version": "3.10.12"
  },
  "orig_nbformat": 4
 },
 "nbformat": 4,
 "nbformat_minor": 2
}
