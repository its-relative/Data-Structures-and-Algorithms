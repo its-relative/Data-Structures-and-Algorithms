{
 "cells": [
  {
   "cell_type": "markdown",
   "metadata": {},
   "source": [
    "You are given an array of integers containing both positive and negative numbers. Write a Python function max_subarray_sum(arr) that finds the maximum sum of a subarray within the given array. A subarray is a contiguous sequence of elements from the array.\n",
    "\n",
    "For example, given the input array arr = [-2, 1, -3, 4, -1, 2, 1, -5, 4], the maximum subarray sum is 6, which corresponds to the subarray [4, -1, 2, 1].\n",
    "\n",
    "Your task is to implement the max_subarray_sum function and return the maximum subarray sum.\n",
    "\n",
    "Code Input:\n",
    "\n",
    "```python\n",
    "def max_subarray_sum(arr):\n",
    "    # Your code here\n",
    "\n",
    "# Test case\n",
    "arr = [-2, 1, -3, 4, -1, 2, 1, -5, 4]\n",
    "result = max_subarray_sum(arr)\n",
    "print(result)\n",
    "```\n",
    "```py\n",
    "\n",
    "Preferred Output:\n",
    "\n",
    "6\n",
    "\n",
    "```\n",
    "Your task is to complete the max_subarray_sum function to find the maximum subarray sum and return it for the given input array.\n",
    "\n"
   ]
  },
  {
   "cell_type": "code",
   "execution_count": null,
   "metadata": {},
   "outputs": [],
   "source": [
    "def max_subarray_sum(arr):\n",
    "    # Your code here\n",
    "    \n",
    "# Test case\n",
    "arr = [-2, 1, -3, 4, -1, 2, 1, -5, 4]\n",
    "result = max_subarray_sum(arr)\n",
    "print(result)"
   ]
  },
  {
   "cell_type": "code",
   "execution_count": null,
   "metadata": {},
   "outputs": [],
   "source": []
  }
 ],
 "metadata": {
  "kernelspec": {
   "display_name": "Python 3",
   "language": "python",
   "name": "python3"
  },
  "language_info": {
   "name": "python",
   "version": "3.10.12"
  },
  "orig_nbformat": 4
 },
 "nbformat": 4,
 "nbformat_minor": 2
}
