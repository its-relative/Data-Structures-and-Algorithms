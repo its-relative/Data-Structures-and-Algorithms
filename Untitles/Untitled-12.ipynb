{
 "cells": [
  {
   "cell_type": "markdown",
   "metadata": {},
   "source": [
    "Question:\n",
    "\n",
    "You are given a list of positive integers. Write a Python function average(arr) that calculates and returns the average (mean) of the integers in the list. The average is calculated by summing all the integers and dividing the sum by the total number of integers.\n",
    "\n",
    "For example, given the input list arr = [10, 20, 30, 40, 50], the average is (10 + 20 + 30 + 40 + 50) / 5, which is 30."
   ]
  },
  {
   "cell_type": "markdown",
   "metadata": {},
   "source": [
    "Preferred Output:\n",
    "\n",
    "\n",
    "30.0\n"
   ]
  },
  {
   "cell_type": "code",
   "execution_count": 4,
   "metadata": {},
   "outputs": [
    {
     "name": "stdout",
     "output_type": "stream",
     "text": [
      "30.0\n"
     ]
    }
   ],
   "source": [
    "def average(arr):\n",
    "    # Your code here\n",
    "    return sum(arr)/len(arr)\n",
    "# Test case\n",
    "arr = [10, 20, 30, 40, 50]\n",
    "result = average(arr)\n",
    "print(result)\n"
   ]
  },
  {
   "cell_type": "code",
   "execution_count": null,
   "metadata": {},
   "outputs": [],
   "source": []
  }
 ],
 "metadata": {
  "kernelspec": {
   "display_name": "Python 3",
   "language": "python",
   "name": "python3"
  },
  "language_info": {
   "codemirror_mode": {
    "name": "ipython",
    "version": 3
   },
   "file_extension": ".py",
   "mimetype": "text/x-python",
   "name": "python",
   "nbconvert_exporter": "python",
   "pygments_lexer": "ipython3",
   "version": "3.10.12"
  },
  "orig_nbformat": 4
 },
 "nbformat": 4,
 "nbformat_minor": 2
}
