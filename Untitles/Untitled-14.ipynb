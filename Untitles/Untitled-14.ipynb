{
 "cells": [
  {
   "cell_type": "markdown",
   "metadata": {},
   "source": [
    "Question:\n",
    "\n",
    "You are given a list of integers. Write a Python function sum_positive(arr) that calculates and returns the sum of all positive integers in the list.\n",
    "\n",
    "For example, given the input list arr = [10, -5, 20, -8, 15, -3, 7], the sum of positive integers is 10 + 20 + 15 + 7, which is 52."
   ]
  },
  {
   "cell_type": "markdown",
   "metadata": {},
   "source": [
    "Preferred Output:\n",
    "\n",
    "52"
   ]
  },
  {
   "cell_type": "code",
   "execution_count": 1,
   "metadata": {},
   "outputs": [
    {
     "name": "stdout",
     "output_type": "stream",
     "text": [
      "52\n"
     ]
    }
   ],
   "source": [
    "def sum_positive(arr):\n",
    "    # Your code here\n",
    "    sum = 0\n",
    "    for i in range(len(arr)):\n",
    "        if arr[i]>0:\n",
    "            sum += arr[i]\n",
    "    \n",
    "    return sum\n",
    "# Test case\n",
    "arr = [10, -5, 20, -8, 15, -3, 7]\n",
    "result = sum_positive(arr)\n",
    "print(result)\n"
   ]
  }
 ],
 "metadata": {
  "kernelspec": {
   "display_name": "Python 3",
   "language": "python",
   "name": "python3"
  },
  "language_info": {
   "codemirror_mode": {
    "name": "ipython",
    "version": 3
   },
   "file_extension": ".py",
   "mimetype": "text/x-python",
   "name": "python",
   "nbconvert_exporter": "python",
   "pygments_lexer": "ipython3",
   "version": "3.10.12"
  },
  "orig_nbformat": 4
 },
 "nbformat": 4,
 "nbformat_minor": 2
}
