{
 "cells": [
  {
   "cell_type": "markdown",
   "metadata": {},
   "source": [
    "Question:\n",
    "\n",
    "You are given a list of integers, and your task is to find the longest increasing subarray within the list. A subarray is a contiguous sequence of elements from the list.\n",
    "\n",
    "Write a Python function longest_increasing_subarray(arr) that finds the longest increasing subarray and returns its length.\n",
    "\n",
    "For example, given the input list arr = [1, 2, 3, 2, 3, 4, 5, 1, 2], the longest increasing subarray is [2, 3, 4, 5], and its length is 4."
   ]
  },
  {
   "cell_type": "markdown",
   "metadata": {},
   "source": [
    "Preferred Output:\n",
    "\n",
    "4"
   ]
  },
  {
   "cell_type": "code",
   "execution_count": 2,
   "metadata": {},
   "outputs": [
    {
     "name": "stdout",
     "output_type": "stream",
     "text": [
      "4\n"
     ]
    }
   ],
   "source": [
    "def longest_increasing_subarray(arr):\n",
    "    # Your code here\n",
    "    current_max = 1\n",
    "    max_length = 1\n",
    "\n",
    "    if len(arr) == 0:\n",
    "        return 0\n",
    "    for i in range (1,len(arr)):\n",
    "        if arr[i]> arr[i-1]:\n",
    "            current_max += 1\n",
    "        else:\n",
    "            current_max = 1\n",
    "        \n",
    "        if current_max > max_length:\n",
    "            max_length = current_max\n",
    "\n",
    "    return max_length\n",
    "\n",
    "\n",
    "# Test case\n",
    "arr = [1, 2, 3, 2, 3, 4, 5, 1, 2]\n",
    "result = longest_increasing_subarray(arr)\n",
    "print(result)\n"
   ]
  },
  {
   "cell_type": "code",
   "execution_count": null,
   "metadata": {},
   "outputs": [],
   "source": []
  }
 ],
 "metadata": {
  "kernelspec": {
   "display_name": "Python 3",
   "language": "python",
   "name": "python3"
  },
  "language_info": {
   "codemirror_mode": {
    "name": "ipython",
    "version": 3
   },
   "file_extension": ".py",
   "mimetype": "text/x-python",
   "name": "python",
   "nbconvert_exporter": "python",
   "pygments_lexer": "ipython3",
   "version": "3.10.12"
  },
  "orig_nbformat": 4
 },
 "nbformat": 4,
 "nbformat_minor": 2
}
