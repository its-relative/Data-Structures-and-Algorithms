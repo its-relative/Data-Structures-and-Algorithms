{
 "cells": [
  {
   "cell_type": "markdown",
   "metadata": {},
   "source": [
    "Question:\n",
    "\n",
    "You are given a list of integers. Write a Python function find_longest_consecutive_sequence(arr) that finds the longest consecutive sequence of integers within the list and returns it as a list.\n",
    "\n",
    "For example, given the input list arr = [100, 4, 200, 1, 3, 2, 5, 6], the longest consecutive sequence is [1, 2, 3, 4, 5, 6], and the function should return this sequence."
   ]
  },
  {
   "cell_type": "markdown",
   "metadata": {},
   "source": [
    "Preferred Output:\n",
    "\n",
    "[1, 2, 3, 4, 5, 6]"
   ]
  },
  {
   "cell_type": "code",
   "execution_count": 5,
   "metadata": {},
   "outputs": [
    {
     "ename": "AttributeError",
     "evalue": "'set' object has no attribute 'sort'",
     "output_type": "error",
     "traceback": [
      "\u001b[0;31m---------------------------------------------------------------------------\u001b[0m",
      "\u001b[0;31mAttributeError\u001b[0m                            Traceback (most recent call last)",
      "\u001b[1;32m/home/its_relative/folder/in_git_hub/Data-Structures-and-Algorithms/Untitles/Untitled-17.ipynb Cell 3\u001b[0m line \u001b[0;36m1\n\u001b[1;32m     <a href='vscode-notebook-cell:/home/its_relative/folder/in_git_hub/Data-Structures-and-Algorithms/Untitles/Untitled-17.ipynb#W4sZmlsZQ%3D%3D?line=9'>10</a>\u001b[0m \u001b[39m# Test case\u001b[39;00m\n\u001b[1;32m     <a href='vscode-notebook-cell:/home/its_relative/folder/in_git_hub/Data-Structures-and-Algorithms/Untitles/Untitled-17.ipynb#W4sZmlsZQ%3D%3D?line=10'>11</a>\u001b[0m arr \u001b[39m=\u001b[39m [\u001b[39m100\u001b[39m, \u001b[39m4\u001b[39m, \u001b[39m200\u001b[39m, \u001b[39m1\u001b[39m, \u001b[39m3\u001b[39m, \u001b[39m2\u001b[39m, \u001b[39m5\u001b[39m, \u001b[39m6\u001b[39m]\n\u001b[0;32m---> <a href='vscode-notebook-cell:/home/its_relative/folder/in_git_hub/Data-Structures-and-Algorithms/Untitles/Untitled-17.ipynb#W4sZmlsZQ%3D%3D?line=11'>12</a>\u001b[0m result \u001b[39m=\u001b[39m find_longest_consecutive_sequence(arr)\n\u001b[1;32m     <a href='vscode-notebook-cell:/home/its_relative/folder/in_git_hub/Data-Structures-and-Algorithms/Untitles/Untitled-17.ipynb#W4sZmlsZQ%3D%3D?line=12'>13</a>\u001b[0m \u001b[39mprint\u001b[39m(result)\n",
      "\u001b[1;32m/home/its_relative/folder/in_git_hub/Data-Structures-and-Algorithms/Untitles/Untitled-17.ipynb Cell 3\u001b[0m line \u001b[0;36m7\n\u001b[1;32m      <a href='vscode-notebook-cell:/home/its_relative/folder/in_git_hub/Data-Structures-and-Algorithms/Untitles/Untitled-17.ipynb#W4sZmlsZQ%3D%3D?line=0'>1</a>\u001b[0m \u001b[39mdef\u001b[39;00m \u001b[39mfind_longest_consecutive_sequence\u001b[39m(arr):\n\u001b[1;32m      <a href='vscode-notebook-cell:/home/its_relative/folder/in_git_hub/Data-Structures-and-Algorithms/Untitles/Untitled-17.ipynb#W4sZmlsZQ%3D%3D?line=1'>2</a>\u001b[0m     \u001b[39m# Your code here\u001b[39;00m\n\u001b[1;32m      <a href='vscode-notebook-cell:/home/its_relative/folder/in_git_hub/Data-Structures-and-Algorithms/Untitles/Untitled-17.ipynb#W4sZmlsZQ%3D%3D?line=2'>3</a>\u001b[0m     \u001b[39m# ini_set = set({})\u001b[39;00m\n\u001b[1;32m      <a href='vscode-notebook-cell:/home/its_relative/folder/in_git_hub/Data-Structures-and-Algorithms/Untitles/Untitled-17.ipynb#W4sZmlsZQ%3D%3D?line=3'>4</a>\u001b[0m     \u001b[39m# print(type(ini_set))\u001b[39;00m\n\u001b[1;32m      <a href='vscode-notebook-cell:/home/its_relative/folder/in_git_hub/Data-Structures-and-Algorithms/Untitles/Untitled-17.ipynb#W4sZmlsZQ%3D%3D?line=4'>5</a>\u001b[0m     \u001b[39m# return\u001b[39;00m\n\u001b[1;32m      <a href='vscode-notebook-cell:/home/its_relative/folder/in_git_hub/Data-Structures-and-Algorithms/Untitles/Untitled-17.ipynb#W4sZmlsZQ%3D%3D?line=5'>6</a>\u001b[0m     ini_set \u001b[39m=\u001b[39m \u001b[39mset\u001b[39m(arr)\n\u001b[0;32m----> <a href='vscode-notebook-cell:/home/its_relative/folder/in_git_hub/Data-Structures-and-Algorithms/Untitles/Untitled-17.ipynb#W4sZmlsZQ%3D%3D?line=6'>7</a>\u001b[0m     \u001b[39mprint\u001b[39m(ini_set\u001b[39m.\u001b[39;49msort())\n\u001b[1;32m      <a href='vscode-notebook-cell:/home/its_relative/folder/in_git_hub/Data-Structures-and-Algorithms/Untitles/Untitled-17.ipynb#W4sZmlsZQ%3D%3D?line=7'>8</a>\u001b[0m     \u001b[39mreturn\u001b[39;00m\n",
      "\u001b[0;31mAttributeError\u001b[0m: 'set' object has no attribute 'sort'"
     ]
    }
   ],
   "source": [
    "def find_longest_consecutive_sequence(arr):\n",
    "    # Your code here\n",
    "    if not arr:\n",
    "        return []\n",
    "    \n",
    "    unique_set = set(arr)\n",
    "\n",
    "    current_max = []\n",
    "\n",
    "    max_set = []\n",
    "\n",
    "    for itm in arr:\n",
    "        if (itm - 1) not in arr:\n",
    "            current_max = [itm]\n",
    "\n",
    "        while itm + 1 in unique_set:\n",
    "            itm +=1\n",
    "            current_max.append(itm)\n",
    "        \n",
    "        if current_max > max_set:\n",
    "            max_set = current_max\n",
    "\n",
    "    return max_set\n",
    "\n",
    "    return\n",
    "\n",
    "# Test case\n",
    "arr = [100, 4, 200, 1, 3, 2, 5, 6]\n",
    "result = find_longest_consecutive_sequence(arr)\n",
    "print(result)\n"
   ]
  },
  {
   "cell_type": "code",
   "execution_count": null,
   "metadata": {},
   "outputs": [],
   "source": []
  }
 ],
 "metadata": {
  "kernelspec": {
   "display_name": "Python 3",
   "language": "python",
   "name": "python3"
  },
  "language_info": {
   "codemirror_mode": {
    "name": "ipython",
    "version": 3
   },
   "file_extension": ".py",
   "mimetype": "text/x-python",
   "name": "python",
   "nbconvert_exporter": "python",
   "pygments_lexer": "ipython3",
   "version": "3.10.12"
  },
  "orig_nbformat": 4
 },
 "nbformat": 4,
 "nbformat_minor": 2
}
