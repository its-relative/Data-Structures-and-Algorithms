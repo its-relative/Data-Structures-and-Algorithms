{
 "cells": [
  {
   "cell_type": "markdown",
   "metadata": {},
   "source": [
    "Question:\n",
    "\n",
    "You are given a list of integers. Write a Python function find_longest_consecutive_sequence(arr) that finds the longest consecutive sequence of integers within the list and returns it as a list.\n",
    "\n",
    "For example, given the input list arr = [100, 4, 200, 1, 3, 2, 5, 6], the longest consecutive sequence is [1, 2, 3, 4, 5, 6], and the function should return this sequence."
   ]
  },
  {
   "cell_type": "markdown",
   "metadata": {},
   "source": [
    "Preferred Output:\n",
    "\n",
    "[1, 2, 3, 4, 5, 6]"
   ]
  },
  {
   "cell_type": "code",
   "execution_count": 18,
   "metadata": {},
   "outputs": [
    {
     "name": "stdout",
     "output_type": "stream",
     "text": [
      "[1, 2, 3, 4, 5, 6, 4, 5, 6, 3, 4, 5, 6, 6]\n"
     ]
    }
   ],
   "source": [
    "def find_longest_consecutive_sequence(arr):\n",
    "    # Code here\n",
    "    if not arr:\n",
    "        return []\n",
    "    \n",
    "    unique_set = set(arr)\n",
    "\n",
    "    current_seq = []\n",
    "    max_seq = []\n",
    "\n",
    "    for itm in arr:\n",
    "        if (itm - 1) not in unique_set:\n",
    "            current_seq = [itm]\n",
    "        \n",
    "        while (itm + 1) in unique_set:\n",
    "            itm += 1\n",
    "            current_seq.append(itm)\n",
    "\n",
    "        if len(current_seq) >len(max_seq):\n",
    "            max_seq = current_seq\n",
    "\n",
    "    return max_seq \n",
    "\n",
    "\n",
    "        \n",
    "\n",
    "\n",
    "# Test case\n",
    "arr = [100, 4, 200, 1, 3, 2, 5, 6]\n",
    "result = find_longest_consecutive_sequence(arr)\n",
    "print(result)\n"
   ]
  },
  {
   "cell_type": "code",
   "execution_count": 21,
   "metadata": {},
   "outputs": [
    {
     "name": "stdout",
     "output_type": "stream",
     "text": [
      "[1, 2, 3, 4, 5, 6]\n"
     ]
    }
   ],
   "source": [
    "def find_longest_consecutive_sequence(arr):\n",
    "    if not arr:\n",
    "        return []  # Return an empty list for an empty input list\n",
    "\n",
    "    # Create a set of unique elements from the input list for efficient lookup\n",
    "    unique_set = set(arr)\n",
    "    \n",
    "    current_sequence = []  # Initialize an empty list to store the current consecutive sequence.\n",
    "    max_sequence = []      # Initialize an empty list to store the longest consecutive sequence found so far.\n",
    "\n",
    "    for element in arr:\n",
    "        if (element - 1) not in unique_set:\n",
    "            # Found the start of a potential consecutive sequence\n",
    "            current_sequence = [element]  # Initialize the current sequence with the current element\n",
    "        \n",
    "            # Keep incrementing the current element and checking if the next consecutive number is in the set\n",
    "            while (element + 1) in unique_set:\n",
    "                element += 1  # Increment to the next consecutive number\n",
    "                current_sequence.append(element)  # Add it to the current sequence\n",
    "\n",
    "            # Check if the current sequence is longer than the max sequence found so far\n",
    "            if len(current_sequence) > len(max_sequence):\n",
    "                max_sequence = current_sequence  # Update max_sequence with the current sequence\n",
    "\n",
    "    return max_sequence\n",
    "\n",
    "# Test case\n",
    "arr = [100, 4, 200, 1, 3, 2, 5, 6]\n",
    "result = find_longest_consecutive_sequence(arr)\n",
    "print(result)\n"
   ]
  },
  {
   "cell_type": "code",
   "execution_count": 22,
   "metadata": {},
   "outputs": [
    {
     "name": "stdout",
     "output_type": "stream",
     "text": [
      "[1, 2, 3, 4, 5, 6]\n"
     ]
    }
   ],
   "source": [
    "def find_longest_consecutive_sequence(arr):\n",
    "    if not arr:\n",
    "        return []\n",
    "    \n",
    "    unique_set = set(arr)\n",
    "\n",
    "    current_seq = []\n",
    "    max_seq = []\n",
    "\n",
    "    for itm in arr:\n",
    "        if (itm - 1) not in unique_set:\n",
    "            current_seq = [itm]\n",
    "        \n",
    "            while (itm + 1) in unique_set:\n",
    "                itm += 1\n",
    "                current_seq.append(itm)\n",
    "\n",
    "            if len(current_seq) > len(max_seq):\n",
    "                max_seq = current_seq\n",
    "\n",
    "    return max_seq \n",
    "\n",
    "# Test case\n",
    "arr = [100, 4, 200, 1, 3, 2, 5, 6]\n",
    "result = find_longest_consecutive_sequence(arr)\n",
    "print(result)\n"
   ]
  }
 ],
 "metadata": {
  "kernelspec": {
   "display_name": "Python 3",
   "language": "python",
   "name": "python3"
  },
  "language_info": {
   "codemirror_mode": {
    "name": "ipython",
    "version": 3
   },
   "file_extension": ".py",
   "mimetype": "text/x-python",
   "name": "python",
   "nbconvert_exporter": "python",
   "pygments_lexer": "ipython3",
   "version": "3.10.12"
  },
  "orig_nbformat": 4
 },
 "nbformat": 4,
 "nbformat_minor": 2
}
