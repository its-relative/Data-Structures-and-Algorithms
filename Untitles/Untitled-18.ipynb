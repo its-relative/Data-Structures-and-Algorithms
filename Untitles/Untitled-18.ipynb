{
 "cells": [
  {
   "cell_type": "markdown",
   "metadata": {},
   "source": [
    "Question:\n",
    "\n",
    "You are given a list of integers. Write a Python function count_prime_numbers(arr) that counts and returns the number of prime numbers in the list. Your function should return an integer representing the count of prime numbers in the list.\n",
    "\n",
    "A prime number is a positive integer greater than 1 that has no positive integer divisors other than 1 and itself.\n",
    "\n",
    "Write the Python function count_prime_numbers(arr) to solve this problem."
   ]
  },
  {
   "cell_type": "markdown",
   "metadata": {},
   "source": [
    "Preferred Output:\n",
    "\n",
    "4"
   ]
  },
  {
   "cell_type": "code",
   "execution_count": 18,
   "metadata": {},
   "outputs": [
    {
     "name": "stdout",
     "output_type": "stream",
     "text": [
      "5\n"
     ]
    }
   ],
   "source": [
    "def count_prime_numbers(arr):\n",
    "    # Your code goes here\n",
    "\n",
    "    def is_prime(num):\n",
    "        flag = True\n",
    "        if num == 1:\n",
    "            return False\n",
    "        for i in range(2,(int(num**0.5)+1)):\n",
    "            if num % i == 0:\n",
    "                flag = False\n",
    "            else:\n",
    "                flag = True\n",
    "        return flag\n",
    "    count = 0\n",
    "    # return is_prime(12)\n",
    "    for i in range(len(arr)):\n",
    "        if is_prime(arr[i]):\n",
    "            count+=1\n",
    "            # print(arr[i])\n",
    "    return count\n",
    "    # return count\n",
    "\n",
    "# Test case\n",
    "arr = [2, 5, 8, 3, 12, 7, 11, 1]\n",
    "result = count_prime_numbers(arr)\n",
    "print(result)  # Your code should return the count of prime numbers in the list\n"
   ]
  },
  {
   "cell_type": "code",
   "execution_count": 8,
   "metadata": {},
   "outputs": [
    {
     "name": "stdout",
     "output_type": "stream",
     "text": [
      "False\n"
     ]
    }
   ],
   "source": [
    "def is_prime(num):\n",
    "    flag = True\n",
    "    for i in range(2,(int(num**0.5)+1)):\n",
    "        if num % i == 0:\n",
    "            # print(num,i)\n",
    "            flag = False\n",
    "        else:\n",
    "            flag = True\n",
    "    # if flag == True:\n",
    "    #     return True\n",
    "    # else:\n",
    "    #     return False\n",
    "    return flag\n",
    "    \n",
    "print(is_prime(6))"
   ]
  }
 ],
 "metadata": {
  "kernelspec": {
   "display_name": "Python 3",
   "language": "python",
   "name": "python3"
  },
  "language_info": {
   "codemirror_mode": {
    "name": "ipython",
    "version": 3
   },
   "file_extension": ".py",
   "mimetype": "text/x-python",
   "name": "python",
   "nbconvert_exporter": "python",
   "pygments_lexer": "ipython3",
   "version": "3.10.12"
  },
  "orig_nbformat": 4
 },
 "nbformat": 4,
 "nbformat_minor": 2
}
