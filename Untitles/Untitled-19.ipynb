{
 "cells": [
  {
   "cell_type": "markdown",
   "metadata": {},
   "source": [
    "Question:\n",
    "\n",
    "You are given a list of integers. Write a Python function find_max_min_difference(arr) that finds and returns the difference between the maximum and minimum values in the list.\n",
    "\n",
    "Write the Python function find_max_min_difference(arr) to solve this problem."
   ]
  },
  {
   "cell_type": "markdown",
   "metadata": {},
   "source": [
    "Expected Output:\n",
    "\n",
    "14"
   ]
  },
  {
   "cell_type": "code",
   "execution_count": 4,
   "metadata": {},
   "outputs": [
    {
     "name": "stdout",
     "output_type": "stream",
     "text": [
      "14\n"
     ]
    }
   ],
   "source": [
    "def find_max_min_difference(arr):\n",
    "    # Your code goes here\n",
    "    count_of_max = 0\n",
    "    count_of_min = 999999999999999\n",
    "    for i in range(len(arr)):\n",
    "        if max(count_of_max,arr[i]) == arr[i]:\n",
    "            count_of_max = arr[i]\n",
    "            # break\n",
    "        if min(count_of_min,arr[i]) == arr[i]:\n",
    "            count_of_min = arr[i]\n",
    "            # break\n",
    "\n",
    "    return count_of_max -  count_of_min\n",
    "        # if count_of_max\n",
    "    \n",
    "\n",
    "# Test case\n",
    "arr = [10, 5, 8, 3, 12, 7, 15, 1]\n",
    "result = find_max_min_difference(arr)\n",
    "print(result)  # Your code should return the difference between the maximum and minimum values\n"
   ]
  },
  {
   "cell_type": "code",
   "execution_count": null,
   "metadata": {},
   "outputs": [],
   "source": []
  }
 ],
 "metadata": {
  "kernelspec": {
   "display_name": "Python 3",
   "language": "python",
   "name": "python3"
  },
  "language_info": {
   "codemirror_mode": {
    "name": "ipython",
    "version": 3
   },
   "file_extension": ".py",
   "mimetype": "text/x-python",
   "name": "python",
   "nbconvert_exporter": "python",
   "pygments_lexer": "ipython3",
   "version": "3.10.12"
  },
  "orig_nbformat": 4
 },
 "nbformat": 4,
 "nbformat_minor": 2
}
