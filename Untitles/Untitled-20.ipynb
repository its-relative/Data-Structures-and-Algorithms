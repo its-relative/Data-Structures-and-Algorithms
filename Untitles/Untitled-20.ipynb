{
 "cells": [
  {
   "cell_type": "markdown",
   "metadata": {},
   "source": [
    "Question:\n",
    "\n",
    "You are given a list of integers. Write a Python function find_second_largest(arr) that finds and returns the second-largest integer in the list.\n",
    "\n",
    "Write the Python function find_second_largest(arr) to solve this problem."
   ]
  },
  {
   "cell_type": "markdown",
   "metadata": {},
   "source": [
    "Expected Output:\n",
    "\n",
    "12"
   ]
  },
  {
   "cell_type": "code",
   "execution_count": 6,
   "metadata": {},
   "outputs": [
    {
     "name": "stdout",
     "output_type": "stream",
     "text": [
      "12\n"
     ]
    }
   ],
   "source": [
    "def find_second_largest(arr):\n",
    "    # Your code goes here\n",
    "    count_of_max = 0\n",
    "    list_of_maxs = []\n",
    "    for i in range(len(arr)):\n",
    "        if max(count_of_max, arr[i]) == arr[i]:\n",
    "            list_of_maxs.append(arr[i])\n",
    "            count_of_max = arr[i]\n",
    "    \n",
    "    return list_of_maxs[-2]\n",
    "# Test case\n",
    "arr = [10, 5, 8, 3, 12, 7, 15, 1]\n",
    "result = find_second_largest(arr)\n",
    "print(result)  # Your code should return the second-largest integer in the list\n"
   ]
  },
  {
   "cell_type": "code",
   "execution_count": null,
   "metadata": {},
   "outputs": [],
   "source": []
  }
 ],
 "metadata": {
  "kernelspec": {
   "display_name": "Python 3",
   "language": "python",
   "name": "python3"
  },
  "language_info": {
   "codemirror_mode": {
    "name": "ipython",
    "version": 3
   },
   "file_extension": ".py",
   "mimetype": "text/x-python",
   "name": "python",
   "nbconvert_exporter": "python",
   "pygments_lexer": "ipython3",
   "version": "3.10.12"
  },
  "orig_nbformat": 4
 },
 "nbformat": 4,
 "nbformat_minor": 2
}
