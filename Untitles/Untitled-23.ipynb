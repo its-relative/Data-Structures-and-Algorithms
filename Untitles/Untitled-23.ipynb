{
 "cells": [
  {
   "cell_type": "code",
   "execution_count": null,
   "metadata": {},
   "outputs": [],
   "source": [
    "sentence = input(\"Enter a sentence: \\t\")\n",
    "words = sentence.split(\" \")\n",
    "print(\"This is the length of sentence :\",len(words))\n"
   ]
  }
 ],
 "metadata": {
  "language_info": {
   "name": "python"
  },
  "orig_nbformat": 4
 },
 "nbformat": 4,
 "nbformat_minor": 2
}
