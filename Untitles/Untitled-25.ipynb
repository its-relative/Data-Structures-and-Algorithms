{
 "cells": [
  {
   "cell_type": "code",
   "execution_count": 1,
   "metadata": {},
   "outputs": [
    {
     "ename": "ValueError",
     "evalue": "invalid literal for int() with base 10: ''",
     "output_type": "error",
     "traceback": [
      "\u001b[0;31m---------------------------------------------------------------------------\u001b[0m",
      "\u001b[0;31mValueError\u001b[0m                                Traceback (most recent call last)",
      "\u001b[1;32m/home/its_relative/folder/in_git_hub/Data-Structures-and-Algorithms/Untitles/Untitled-25.ipynb Cell 1\u001b[0m line \u001b[0;36m1\n\u001b[0;32m----> <a href='vscode-notebook-cell:/home/its_relative/folder/in_git_hub/Data-Structures-and-Algorithms/Untitles/Untitled-25.ipynb#W0sZmlsZQ%3D%3D?line=0'>1</a>\u001b[0m n \u001b[39m=\u001b[39m \u001b[39mint\u001b[39;49m(\u001b[39minput\u001b[39;49m())\n\u001b[1;32m      <a href='vscode-notebook-cell:/home/its_relative/folder/in_git_hub/Data-Structures-and-Algorithms/Untitles/Untitled-25.ipynb#W0sZmlsZQ%3D%3D?line=1'>2</a>\u001b[0m ga \u001b[39m=\u001b[39m \u001b[39minput\u001b[39m()\n\u001b[1;32m      <a href='vscode-notebook-cell:/home/its_relative/folder/in_git_hub/Data-Structures-and-Algorithms/Untitles/Untitled-25.ipynb#W0sZmlsZQ%3D%3D?line=2'>3</a>\u001b[0m ca \u001b[39m=\u001b[39m \u001b[39m0\u001b[39m\n",
      "\u001b[0;31mValueError\u001b[0m: invalid literal for int() with base 10: ''"
     ]
    }
   ],
   "source": [
    "n = int(input())\n",
    "ga = input()\n",
    "ca = 0\n",
    "cb = 0\n",
    "litg = list(ga)\n",
    "print(litg)\n",
    "while (((ca - cb) > 2) or ((ca -cb) < 2) or (ca > n) or (cb > n) ):\n",
    "    for i in range(len(litg)):\n",
    "        if litg[i] == \"a\":\n",
    "            ca += 1\n",
    "        elif litg[i] == \"b\":\n",
    "            cb += 1\n",
    "    if ca > cb:\n",
    "        print(\"Team A won\")\n",
    "        break\n",
    "    elif ca < cb:\n",
    "        print(\"Team B won\")\n",
    "        \n",
    "        break"
   ]
  },
  {
   "cell_type": "code",
   "execution_count": null,
   "metadata": {},
   "outputs": [],
   "source": []
  }
 ],
 "metadata": {
  "kernelspec": {
   "display_name": "Python 3",
   "language": "python",
   "name": "python3"
  },
  "language_info": {
   "codemirror_mode": {
    "name": "ipython",
    "version": 3
   },
   "file_extension": ".py",
   "mimetype": "text/x-python",
   "name": "python",
   "nbconvert_exporter": "python",
   "pygments_lexer": "ipython3",
   "version": "3.10.12"
  },
  "orig_nbformat": 4
 },
 "nbformat": 4,
 "nbformat_minor": 2
}
