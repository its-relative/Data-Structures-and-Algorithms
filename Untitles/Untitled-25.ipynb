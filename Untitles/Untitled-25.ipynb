{
 "cells": [
  {
   "cell_type": "code",
   "execution_count": 3,
   "metadata": {},
   "outputs": [],
   "source": [
    "n = int(input())\n",
    "ga = input()\n",
    "ca = 0\n",
    "cb = 0\n",
    "litg = list(ga)\n",
    "print(litg)\n",
    "while (((ca - cb) > 2) or ((ca -cb) < 2) or (ca > n) or (cb > n) ):\n",
    "    for i in range(len(litg)):\n",
    "        if litg[i] == \"a\":\n",
    "            ca += 1\n",
    "        elif litg[i] == \"b\":\n",
    "            cb += 1\n",
    "if ca > cb:\n",
    "    print(\"Team A won\")\n",
    "elif ca < cb:\n",
    "    print(\"Team B won\")"
   ]
  }
 ],
 "metadata": {
  "kernelspec": {
   "display_name": "Python 3",
   "language": "python",
   "name": "python3"
  },
  "language_info": {
   "codemirror_mode": {
    "name": "ipython",
    "version": 3
   },
   "file_extension": ".py",
   "mimetype": "text/x-python",
   "name": "python",
   "nbconvert_exporter": "python",
   "pygments_lexer": "ipython3",
   "version": "3.10.12"
  },
  "orig_nbformat": 4
 },
 "nbformat": 4,
 "nbformat_minor": 2
}
