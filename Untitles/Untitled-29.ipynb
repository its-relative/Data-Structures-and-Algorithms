{
 "cells": [
  {
   "cell_type": "markdown",
   "metadata": {},
   "source": [
    "Question:\n",
    "Given an array of integers, find the maximum element in the array.\n",
    "\n",
    "Input:\n",
    "\n",
    "An array of integers, nums, where 1 <= len(nums) <= 10^5.\n",
    "Each element in the array, nums[i], where 1 <= nums[i] <= 10^9.\n",
    "Output:\n",
    "\n",
    "Return the maximum element in the array.\n",
    "\n",
    "Example:\n",
    "\n",
    "Input: [4, 9, 2, 8, 1]\n",
    "Output: 9\n",
    "\n",
    "Input: [5, 1, 7, 3, 8, 2]\n",
    "Output: 8\n",
    "\n",
    "Constraints:\n",
    "\n",
    "Your solution should have a time complexity of O(n), where n is the number of elements in the array.\n",
    "You are not allowed to use any built-in Python functions like max().\n",
    "Try to optimize your algorithm for better performance.\n",
    "Can you write Python code to solve this problem?"
   ]
  },
  {
   "cell_type": "code",
   "execution_count": 23,
   "metadata": {},
   "outputs": [
    {
     "name": "stdout",
     "output_type": "stream",
     "text": [
      "[[12, 32, 43, 23, 423, 352, 54, 64], 423]\n"
     ]
    }
   ],
   "source": [
    "def find_max(arr):\n",
    "    arr_max = 0\n",
    "    assert len(arr) != 0, \"The Array contains no elements\"\n",
    "    for i in range(len(arr)):\n",
    "        if (arr[i] > arr_max):\n",
    "            arr_max = arr[i]\n",
    "    \n",
    "    return [arr, arr_max]\n",
    "\n",
    "# ar = [1,2,23,4,5,6,78,6,545,34]\n",
    "l = []\n",
    "while True:\n",
    "    # l = []\n",
    "    el = input()\n",
    "    if el:\n",
    "        l.append(int(el))\n",
    "    else:\n",
    "        break\n",
    "    # print(l)\n",
    "# print(l)\n",
    "print(find_max(l))"
   ]
  },
  {
   "cell_type": "code",
   "execution_count": null,
   "metadata": {},
   "outputs": [],
   "source": []
  }
 ],
 "metadata": {
  "kernelspec": {
   "display_name": "Python 3",
   "language": "python",
   "name": "python3"
  },
  "language_info": {
   "codemirror_mode": {
    "name": "ipython",
    "version": 3
   },
   "file_extension": ".py",
   "mimetype": "text/x-python",
   "name": "python",
   "nbconvert_exporter": "python",
   "pygments_lexer": "ipython3",
   "version": "3.10.12"
  },
  "orig_nbformat": 4
 },
 "nbformat": 4,
 "nbformat_minor": 2
}
