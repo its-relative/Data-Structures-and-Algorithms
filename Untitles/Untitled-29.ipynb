{
 "cells": [
  {
   "cell_type": "markdown",
   "metadata": {},
   "source": [
    "Question:\n",
    "Given an array of integers, find the maximum element in the array.\n",
    "\n",
    "Input:\n",
    "\n",
    "An array of integers, nums, where 1 <= len(nums) <= 10^5.\n",
    "Each element in the array, nums[i], where 1 <= nums[i] <= 10^9.\n",
    "Output:\n",
    "\n",
    "Return the maximum element in the array.\n",
    "\n",
    "Example:\n",
    "\n",
    "Input: [4, 9, 2, 8, 1]\n",
    "Output: 9\n",
    "\n",
    "Input: [5, 1, 7, 3, 8, 2]\n",
    "Output: 8\n",
    "\n",
    "Constraints:\n",
    "\n",
    "Your solution should have a time complexity of O(n), where n is the number of elements in the array.\n",
    "You are not allowed to use any built-in Python functions like max().\n",
    "Try to optimize your algorithm for better performance.\n",
    "Can you write Python code to solve this problem?"
   ]
  },
  {
   "cell_type": "code",
   "execution_count": 22,
   "metadata": {},
   "outputs": [
    {
     "ename": "AssertionError",
     "evalue": "The Array contains no elements",
     "output_type": "error",
     "traceback": [
      "\u001b[0;31m---------------------------------------------------------------------------\u001b[0m",
      "\u001b[0;31mAssertionError\u001b[0m                            Traceback (most recent call last)",
      "\u001b[1;32m/home/its_relative/folder/in_git_hub/Data-Structures-and-Algorithms/Untitles/Untitled-29.ipynb Cell 2\u001b[0m line \u001b[0;36m2\n\u001b[1;32m     <a href='vscode-notebook-cell:/home/its_relative/folder/in_git_hub/Data-Structures-and-Algorithms/Untitles/Untitled-29.ipynb#W2sZmlsZQ%3D%3D?line=17'>18</a>\u001b[0m         \u001b[39mbreak\u001b[39;00m\n\u001b[1;32m     <a href='vscode-notebook-cell:/home/its_relative/folder/in_git_hub/Data-Structures-and-Algorithms/Untitles/Untitled-29.ipynb#W2sZmlsZQ%3D%3D?line=18'>19</a>\u001b[0m     \u001b[39m# print(l)\u001b[39;00m\n\u001b[1;32m     <a href='vscode-notebook-cell:/home/its_relative/folder/in_git_hub/Data-Structures-and-Algorithms/Untitles/Untitled-29.ipynb#W2sZmlsZQ%3D%3D?line=19'>20</a>\u001b[0m \u001b[39m# print(l)\u001b[39;00m\n\u001b[0;32m---> <a href='vscode-notebook-cell:/home/its_relative/folder/in_git_hub/Data-Structures-and-Algorithms/Untitles/Untitled-29.ipynb#W2sZmlsZQ%3D%3D?line=20'>21</a>\u001b[0m \u001b[39mprint\u001b[39m(find_max(l))\n",
      "\u001b[1;32m/home/its_relative/folder/in_git_hub/Data-Structures-and-Algorithms/Untitles/Untitled-29.ipynb Cell 2\u001b[0m line \u001b[0;36m3\n\u001b[1;32m      <a href='vscode-notebook-cell:/home/its_relative/folder/in_git_hub/Data-Structures-and-Algorithms/Untitles/Untitled-29.ipynb#W2sZmlsZQ%3D%3D?line=0'>1</a>\u001b[0m \u001b[39mdef\u001b[39;00m \u001b[39mfind_max\u001b[39m(arr):\n\u001b[1;32m      <a href='vscode-notebook-cell:/home/its_relative/folder/in_git_hub/Data-Structures-and-Algorithms/Untitles/Untitled-29.ipynb#W2sZmlsZQ%3D%3D?line=1'>2</a>\u001b[0m     arr_max \u001b[39m=\u001b[39m \u001b[39m0\u001b[39m\n\u001b[0;32m----> <a href='vscode-notebook-cell:/home/its_relative/folder/in_git_hub/Data-Structures-and-Algorithms/Untitles/Untitled-29.ipynb#W2sZmlsZQ%3D%3D?line=2'>3</a>\u001b[0m     \u001b[39massert\u001b[39;00m \u001b[39mlen\u001b[39m(arr) \u001b[39m!=\u001b[39m \u001b[39m0\u001b[39m, \u001b[39m\"\u001b[39m\u001b[39mThe Array contains no elements\u001b[39m\u001b[39m\"\u001b[39m\n\u001b[1;32m      <a href='vscode-notebook-cell:/home/its_relative/folder/in_git_hub/Data-Structures-and-Algorithms/Untitles/Untitled-29.ipynb#W2sZmlsZQ%3D%3D?line=3'>4</a>\u001b[0m     \u001b[39mfor\u001b[39;00m i \u001b[39min\u001b[39;00m \u001b[39mrange\u001b[39m(\u001b[39mlen\u001b[39m(arr)):\n\u001b[1;32m      <a href='vscode-notebook-cell:/home/its_relative/folder/in_git_hub/Data-Structures-and-Algorithms/Untitles/Untitled-29.ipynb#W2sZmlsZQ%3D%3D?line=4'>5</a>\u001b[0m         \u001b[39mif\u001b[39;00m (arr[i] \u001b[39m>\u001b[39m arr_max):\n",
      "\u001b[0;31mAssertionError\u001b[0m: The Array contains no elements"
     ]
    }
   ],
   "source": [
    "def find_max(arr):\n",
    "    arr_max = 0\n",
    "    assert len(arr) != 0, \"The Array contains no elements\"\n",
    "    for i in range(len(arr)):\n",
    "        if (arr[i] > arr_max):\n",
    "            arr_max = arr[i]\n",
    "    \n",
    "    return [arr, arr_max]\n",
    "\n",
    "# ar = [1,2,23,4,5,6,78,6,545,34]\n",
    "l = []\n",
    "while True:\n",
    "    # l = []\n",
    "    el = input()\n",
    "    if el:\n",
    "        l.append(int(el))\n",
    "    else:\n",
    "        break\n",
    "    # print(l)\n",
    "# print(l)\n",
    "print(find_max(l))"
   ]
  },
  {
   "cell_type": "code",
   "execution_count": null,
   "metadata": {},
   "outputs": [],
   "source": []
  }
 ],
 "metadata": {
  "kernelspec": {
   "display_name": "Python 3",
   "language": "python",
   "name": "python3"
  },
  "language_info": {
   "codemirror_mode": {
    "name": "ipython",
    "version": 3
   },
   "file_extension": ".py",
   "mimetype": "text/x-python",
   "name": "python",
   "nbconvert_exporter": "python",
   "pygments_lexer": "ipython3",
   "version": "3.10.12"
  },
  "orig_nbformat": 4
 },
 "nbformat": 4,
 "nbformat_minor": 2
}
