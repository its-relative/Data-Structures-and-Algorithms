{
 "cells": [
  {
   "cell_type": "markdown",
   "metadata": {},
   "source": [
    "\n",
    "**Question**: Write a Python program that prompts the user to enter their expectations for an upcoming event. The program should continue accepting input until the user enters an empty string. After that, it should display the list of expectations entered by the user.\n",
    "\n",
    "Your task is to complete the code by filling in the missing parts. You can use any coding site or editor of your choice to write and test your code. Here's a template to get you started:\n",
    "\n",
    "```python\n",
    "expectations = []\n",
    "\n",
    "while True:\n",
    "    expectation = input(\"Enter your expectation (or press Enter to finish): \")\n",
    "    \n",
    "    if expectation:\n",
    "        # Add the expectation to the list\n",
    "        # Your code goes here\n",
    "        \n",
    "    else:\n",
    "        break\n",
    "\n",
    "print(\"Expectations:\")\n",
    "print(expectations)\n",
    "```\n",
    "\n",
    "To solve this question, you need to add code inside the `if` block to append the user's expectation to the `expectations` list. Once you have completed the code, you can run it and test it with different inputs.\n",
    "\n",
    "Feel free to use any coding site or editor you prefer, such as **HackerRank**, **LeetCode**, or **GeeksforGeeks**¹. These platforms provide a coding environment where you can write and test your code online.\n",
    "\n",
    "I hope this helps! Let me know if you have any further questions."
   ]
  },
  {
   "cell_type": "code",
   "execution_count": 7,
   "metadata": {},
   "outputs": [
    {
     "name": "stdout",
     "output_type": "stream",
     "text": [
      "Expectations:\n",
      "['12', '32', '34']\n"
     ]
    }
   ],
   "source": [
    "expectations = []\n",
    "\n",
    "while True:\n",
    "    expectation = input(\"Enter your expectation (or press Enter to finish): \")\n",
    "    if expectation:\n",
    "        expectations.append(expectation)\n",
    "        # Add the expectation to the list\n",
    "        # Your code goes here\n",
    "        \n",
    "    else:\n",
    "        break\n",
    "\n",
    "assert len(expectations) != 0, \"Nothing added in the expectations\"\n",
    "print(\"Expectations:\")\n",
    "print(expectations)"
   ]
  },
  {
   "cell_type": "code",
   "execution_count": null,
   "metadata": {},
   "outputs": [],
   "source": []
  }
 ],
 "metadata": {
  "kernelspec": {
   "display_name": "Python 3",
   "language": "python",
   "name": "python3"
  },
  "language_info": {
   "codemirror_mode": {
    "name": "ipython",
    "version": 3
   },
   "file_extension": ".py",
   "mimetype": "text/x-python",
   "name": "python",
   "nbconvert_exporter": "python",
   "pygments_lexer": "ipython3",
   "version": "3.10.12"
  },
  "orig_nbformat": 4
 },
 "nbformat": 4,
 "nbformat_minor": 2
}
