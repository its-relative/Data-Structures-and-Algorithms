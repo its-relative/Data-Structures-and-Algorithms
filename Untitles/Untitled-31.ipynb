{
 "cells": [
  {
   "cell_type": "markdown",
   "metadata": {},
   "source": [
    "Certainly! List comprehensions are a concise and powerful way to create lists in Python. They allow you to generate a new list by applying an expression to each item in an existing iterable (e.g., a list, tuple, or range). Let's explore list comprehensions with some examples:\n",
    "\n",
    "**Example 1: Creating a List of Squares**\n",
    "\n",
    "```python\n",
    "# Using a for loop\n",
    "squares = []\n",
    "for num in range(1, 6):\n",
    "    squares.append(num * num)\n",
    "print(squares)  # Output: [1, 4, 9, 16, 25]\n",
    "\n",
    "# Using a list comprehension\n",
    "squares = [num * num for num in range(1, 6)]\n",
    "print(squares)  # Output: [1, 4, 9, 16, 25]\n",
    "```\n",
    "\n",
    "In this example, we create a list of squares of numbers from 1 to 5. The list comprehension is more concise than using a for loop and `append`.\n",
    "\n",
    "**Example 2: Filtering Even Numbers**\n",
    "\n",
    "```python\n",
    "# Using a for loop\n",
    "even_numbers = []\n",
    "for num in range(1, 11):\n",
    "    if num % 2 == 0:\n",
    "        even_numbers.append(num)\n",
    "print(even_numbers)  # Output: [2, 4, 6, 8, 10]\n",
    "\n",
    "# Using a list comprehension\n",
    "even_numbers = [num for num in range(1, 11) if num % 2 == 0]\n",
    "print(even_numbers)  # Output: [2, 4, 6, 8, 10]\n",
    "```\n",
    "\n",
    "Here, we filter out even numbers from a range using a list comprehension with a conditional.\n",
    "\n",
    "**Example 3: Creating a List of Words in Uppercase**\n",
    "\n",
    "```python\n",
    "words = [\"hello\", \"world\", \"python\", \"list\", \"comprehension\"]\n",
    "\n",
    "# Using a for loop\n",
    "uppercase_words = []\n",
    "for word in words:\n",
    "    uppercase_words.append(word.upper())\n",
    "print(uppercase_words)  # Output: ['HELLO', 'WORLD', 'PYTHON', 'LIST', 'COMPREHENSION']\n",
    "\n",
    "# Using a list comprehension\n",
    "uppercase_words = [word.upper() for word in words]\n",
    "print(uppercase_words)  # Output: ['HELLO', 'WORLD', 'PYTHON', 'LIST', 'COMPREHENSION']\n",
    "```\n",
    "\n",
    "In this example, we use a list comprehension to convert a list of words to uppercase.\n",
    "\n",
    "**Example 4: List Comprehension with Conditional Expression**\n",
    "\n",
    "```python\n",
    "numbers = [1, 2, 3, 4, 5, 6]\n",
    "\n",
    "# Using a list comprehension to square even numbers and double odd numbers\n",
    "result = [x * x if x % 2 == 0 else x * 2 for x in numbers]\n",
    "print(result)  # Output: [2, 4, 6, 16, 10, 36]\n",
    "```\n",
    "\n",
    "Here, we apply a conditional expression within the list comprehension to square even numbers and double odd numbers.\n",
    "\n",
    "List comprehensions are a powerful tool for simplifying and making your code more readable when creating lists from existing data or performing simple transformations and filtering operations. They are widely used in Python and can help you write more concise and expressive code."
   ]
  },
  {
   "cell_type": "markdown",
   "metadata": {},
   "source": [
    "Question 1:\n",
    "Create a list comprehension that generates a list of the first 10 positive even numbers.\n",
    "\n",
    "Question 2:\n",
    "Given a list of integers, create a list comprehension that filters out all negative numbers.\n",
    "\n",
    "Question 3:\n",
    "Given a list of words, create a list comprehension that generates a list of words containing more than 4 letters.\n",
    "\n",
    "Question 4:\n",
    "Generate a list comprehension to find the squares of numbers from 1 to 10, but only for those numbers that are divisible by 3.\n",
    "\n",
    "Question 5:\n",
    "Given two lists, list1 and list2, create a list comprehension that generates all pairs of elements where the first element comes from list1 and the second element comes from list2."
   ]
  },
  {
   "cell_type": "code",
   "execution_count": 3,
   "metadata": {},
   "outputs": [
    {
     "name": "stdout",
     "output_type": "stream",
     "text": [
      "[1, 2, 3, 4, 5, 6, 7, 8, 9, 10]\n"
     ]
    }
   ],
   "source": [
    "posl = [x for x in range(1,11)]\n",
    "print(posl)"
   ]
  },
  {
   "cell_type": "code",
   "execution_count": 7,
   "metadata": {},
   "outputs": [
    {
     "name": "stdout",
     "output_type": "stream",
     "text": [
      "[-1, -2, -54, -67]\n"
     ]
    }
   ],
   "source": [
    "l = []\n",
    "while True:\n",
    "    x = input()\n",
    "    if x:\n",
    "        l.append((x))\n",
    "    else:\n",
    "        break\n",
    "negl = [x for x in l if x < 0]\n",
    "print(negl)"
   ]
  },
  {
   "cell_type": "code",
   "execution_count": 9,
   "metadata": {},
   "outputs": [
    {
     "name": "stdout",
     "output_type": "stream",
     "text": [
      "['emul', 'this', 'same']\n"
     ]
    }
   ],
   "source": [
    "l = []\n",
    "while True:\n",
    "    el = input()\n",
    "    if el:\n",
    "        l.append(el)\n",
    "    else:\n",
    "        break\n",
    "w4 = [wr for wr in l if len(wr) == 4]\n",
    "print(w4)"
   ]
  },
  {
   "cell_type": "code",
   "execution_count": 10,
   "metadata": {},
   "outputs": [
    {
     "name": "stdout",
     "output_type": "stream",
     "text": [
      "[9, 36, 81]\n"
     ]
    }
   ],
   "source": [
    "sq = [div**2 for div in range(1,11) if div % 3 == 0]\n",
    "\n",
    "print(sq)"
   ]
  },
  {
   "cell_type": "code",
   "execution_count": 11,
   "metadata": {},
   "outputs": [
    {
     "name": "stdout",
     "output_type": "stream",
     "text": [
      "[[1, 11], [2, 12], [3, 13], [4, 14], [5, 15], [6, 16], [7, 17], [8, 18], [9, 19], [10, 20]]\n"
     ]
    }
   ],
   "source": [
    "l1 = [1,2,3,4,5,6,7,8,9,10]\n",
    "l2 = [11,12,13,14,15,16,17,18,19,20]\n",
    "\n",
    "coml = [[l1[s],l2[s]] for s in range(len(l1)) if len(l1) == len(l2)]\n",
    "print(coml)"
   ]
  }
 ],
 "metadata": {
  "kernelspec": {
   "display_name": "Python 3",
   "language": "python",
   "name": "python3"
  },
  "language_info": {
   "codemirror_mode": {
    "name": "ipython",
    "version": 3
   },
   "file_extension": ".py",
   "mimetype": "text/x-python",
   "name": "python",
   "nbconvert_exporter": "python",
   "pygments_lexer": "ipython3",
   "version": "3.10.12"
  },
  "orig_nbformat": 4
 },
 "nbformat": 4,
 "nbformat_minor": 2
}
