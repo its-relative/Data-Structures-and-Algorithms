{
 "cells": [
  {
   "cell_type": "markdown",
   "metadata": {},
   "source": [
    "Student: Hi, Professor! I've been hearing about something called \"generators\" in Python. What are they, and how are they used?\n",
    "\n",
    "Teacher: Hello! Great question. Generators are a way to create iterators in Python, but with a different approach. They allow you to iterate over a potentially large sequence of data efficiently, without loading the entire sequence into memory.\n",
    "\n",
    "Student: Interesting! How are generators different from regular functions?\n",
    "\n",
    "Teacher: Good question. While a regular function computes all its values at once and returns them in a single go, a generator function uses the yield keyword to produce a sequence of values one at a time. This makes generators more memory-efficient, especially for large datasets.\n",
    "\n",
    "Student: So, how do you create a generator?\n",
    "\n",
    "Teacher: You can create a generator by defining a function with the yield statement. For example:\n",
    "\n",
    "```python\n",
    "def count_up_to(limit):\n",
    "    count = 1\n",
    "    while count <= limit:\n",
    "        yield count\n",
    "        count += 1\n",
    "```\n",
    "\n",
    "Student: How would I use this generator?\n",
    "\n",
    "Teacher: You can use it in a for loop or with the next() function. For example:\n",
    "\n",
    "```python\n",
    "for number in count_up_to(5):\n",
    "    print(number)\n",
    "```\n",
    "\n",
    "This would print numbers from 1 to 5. You can also use next() to get the next value on demand.\n",
    "\n",
    "Student: That's pretty cool! When would I prefer using a generator over a list?\n",
    "\n",
    "Teacher: Generators are preferred when working with large datasets or when you want to generate values on-the-fly. They are memory-efficient because they don't load the entire sequence into memory. If you only need to iterate once and don't need to access elements by index, generators are a great choice."
   ]
  },
  {
   "cell_type": "markdown",
   "metadata": {},
   "source": [
    "Question 1: Fibonacci Sequence with Generators\n",
    "\n",
    "Write a Python generator function to generate the Fibonacci sequence up to a specified limit. The generator should produce Fibonacci numbers on-the-fly.\n",
    "\n",
    "Question 2: Prime Number Generator\n",
    "\n",
    "Create a generator function that yields prime numbers indefinitely. The generator should keep producing prime numbers as you iterate over it.\n",
    "\n",
    "Question 3: Square Numbers\n",
    "\n",
    "Write a generator function that generates square numbers (1, 4, 9, 16, ...) up to a specified limit.\n",
    "\n",
    "Question 4: Infinite Series\n",
    "\n",
    "Design a generator function that generates an infinite series of numbers following the pattern: 1, -2, 3, -4, 5, -6, ... The series alternates between positive and negative integers.\n",
    "\n",
    "Question 5: Running Average\n",
    "\n",
    "Implement a generator function that calculates the running average of a sequence of numbers. The generator should yield the current average each time a new number is provided."
   ]
  },
  {
   "cell_type": "code",
   "execution_count": 11,
   "metadata": {},
   "outputs": [
    {
     "name": "stdout",
     "output_type": "stream",
     "text": [
      "0\n",
      "1\n",
      "1\n",
      "2\n",
      "3\n",
      "5\n",
      "8\n",
      "13\n",
      "21\n",
      "34\n",
      "55\n",
      "89\n",
      "144\n",
      "233\n",
      "377\n"
     ]
    }
   ],
   "source": [
    "def fib_upto(lim):\n",
    "    a,b = 0, 1\n",
    "    while a <= lim:\n",
    "        yield a\n",
    "        a,b = b, a+b\n",
    "\n",
    "limit = int(input())\n",
    "\n",
    "for i in fib_upto(limit):\n",
    "    print(i)\n"
   ]
  },
  {
   "cell_type": "code",
   "execution_count": 13,
   "metadata": {},
   "outputs": [
    {
     "name": "stdout",
     "output_type": "stream",
     "text": [
      "0\n",
      "1\n",
      "1\n",
      "2\n",
      "3\n",
      "5\n",
      "8\n",
      "13\n",
      "21\n"
     ]
    }
   ],
   "source": [
    "def fib_upto(lim):\n",
    "    a, b = 0, 1\n",
    "    while a <= lim:\n",
    "        yield a\n",
    "        a, b = b, a + b\n",
    "\n",
    "limit = int(input(\"Enter the limit: \"))\n",
    "\n",
    "for i in fib_upto(limit):\n",
    "    print(i)\n"
   ]
  }
 ],
 "metadata": {
  "kernelspec": {
   "display_name": "Python 3",
   "language": "python",
   "name": "python3"
  },
  "language_info": {
   "codemirror_mode": {
    "name": "ipython",
    "version": 3
   },
   "file_extension": ".py",
   "mimetype": "text/x-python",
   "name": "python",
   "nbconvert_exporter": "python",
   "pygments_lexer": "ipython3",
   "version": "3.10.12"
  },
  "orig_nbformat": 4
 },
 "nbformat": 4,
 "nbformat_minor": 2
}
