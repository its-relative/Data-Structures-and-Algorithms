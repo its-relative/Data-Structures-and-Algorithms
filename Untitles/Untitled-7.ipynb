{
 "cells": [
  {
   "cell_type": "code",
   "execution_count": 1,
   "metadata": {},
   "outputs": [],
   "source": [
    "names = [\n",
    "    \"Alice\",\n",
    "    \"Bob\",\n",
    "    \"Charlie\",\n",
    "    \"David\",\n",
    "    \"Eva\",\n",
    "    \"Frank\",\n",
    "    \"Grace\",\n",
    "    \"Hannah\",\n",
    "    \"Isaac\",\n",
    "    \"Jasmine\",\n",
    "    \"Kevin\",\n",
    "    \"Linda\",\n",
    "    \"Michael\",\n",
    "    \"Nina\",\n",
    "    \"Oliver\",\n",
    "    \"Penny\",\n",
    "    \"Quincy\",\n",
    "    \"Rachel\",\n",
    "    \"Samuel\"\n",
    "]\n",
    "\n"
   ]
  },
  {
   "cell_type": "code",
   "execution_count": 10,
   "metadata": {},
   "outputs": [
    {
     "name": "stdout",
     "output_type": "stream",
     "text": [
      "Bob is not the the list of names.\n"
     ]
    }
   ],
   "source": [
    "s = str(input())\n",
    "flag = False\n",
    "for i in range(len(names)):\n",
    "    if names[i] == s:\n",
    "        flag = True\n",
    "    else:\n",
    "        flag = False\n",
    "    # print(i)\n",
    "if flag == True:\n",
    "    print(f\"The name {s} is there in the input array\" )\n",
    "else:\n",
    "    print(f\"{s} is not the the list of names.\")"
   ]
  },
  {
   "cell_type": "code",
   "execution_count": 12,
   "metadata": {},
   "outputs": [
    {
     "name": "stdout",
     "output_type": "stream",
     "text": [
      "The name Bob is there in the input array\n"
     ]
    }
   ],
   "source": [
    "names = [\n",
    "    \"Alice\",\n",
    "    \"Bob\",\n",
    "    \"Charlie\",\n",
    "    \"David\",\n",
    "    \"Eva\",\n",
    "    \"Frank\",\n",
    "    \"Grace\",\n",
    "    \"Hannah\",\n",
    "    \"Isaac\",\n",
    "    \"Jasmine\",\n",
    "    \"Kevin\",\n",
    "    \"Linda\",\n",
    "    \"Michael\",\n",
    "    \"Nina\",\n",
    "    \"Oliver\",\n",
    "    \"Penny\",\n",
    "    \"Quincy\",\n",
    "    \"Rachel\",\n",
    "    \"Samuel\"\n",
    "]\n",
    "s = str(input())\n",
    "flag = False\n",
    "for i in range(len(names)):\n",
    "    if names[i] == s:\n",
    "        flag = True\n",
    "        break\n",
    "    # print(i)\n",
    "if flag == True:\n",
    "    print(f\"The name {s} is there in the input array\" )\n",
    "else:\n",
    "    print(f\"{s} is not the the list of names.\")"
   ]
  },
  {
   "cell_type": "code",
   "execution_count": 14,
   "metadata": {},
   "outputs": [
    {
     "name": "stdout",
     "output_type": "stream",
     "text": [
      "The name Bob is there in the input array\n"
     ]
    }
   ],
   "source": [
    "names = [\n",
    "    \"Alice\",\n",
    "    \"Bob\",\n",
    "    \"Charlie\",\n",
    "    \"David\",\n",
    "    \"Eva\",\n",
    "    \"Frank\",\n",
    "    \"Grace\",\n",
    "    \"Hannah\",\n",
    "    \"Isaac\",\n",
    "    \"Jasmine\",\n",
    "    \"Kevin\",\n",
    "    \"Linda\",\n",
    "    \"Michael\",\n",
    "    \"Nina\",\n",
    "    \"Oliver\",\n",
    "    \"Penny\",\n",
    "    \"Quincy\",\n",
    "    \"Rachel\",\n",
    "    \"Samuel\"\n",
    "]\n",
    "s = str(input())\n",
    "flag = False\n",
    "for i in range(len(names)):\n",
    "    if names[i].lower() == s.lower():\n",
    "        flag = True\n",
    "        break\n",
    "    # print(i)\n",
    "if flag == True:\n",
    "    print(f\"The name {s} is there in the input array\" )\n",
    "else:\n",
    "    print(f\"{s} is not the the list of names.\")"
   ]
  }
 ],
 "metadata": {
  "kernelspec": {
   "display_name": "Python 3",
   "language": "python",
   "name": "python3"
  },
  "language_info": {
   "codemirror_mode": {
    "name": "ipython",
    "version": 3
   },
   "file_extension": ".py",
   "mimetype": "text/x-python",
   "name": "python",
   "nbconvert_exporter": "python",
   "pygments_lexer": "ipython3",
   "version": "3.10.12"
  },
  "orig_nbformat": 4
 },
 "nbformat": 4,
 "nbformat_minor": 2
}
