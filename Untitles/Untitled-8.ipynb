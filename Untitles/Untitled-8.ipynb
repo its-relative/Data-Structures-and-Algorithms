{
 "cells": [
  {
   "cell_type": "code",
   "execution_count": 12,
   "metadata": {},
   "outputs": [
    {
     "name": "stdout",
     "output_type": "stream",
     "text": [
      "5 10\n",
      "['010', '09', '08', '07', '06', '05']\n"
     ]
    }
   ],
   "source": [
    "x,y = int(input()), int(input())\n",
    "\n",
    "print(x,y)\n",
    "finl=  []\n",
    "for i in range(y,x-1,-1):\n",
    "    # print(str(\"0\"+str(i)))\n",
    "    finl.append(\"0\"+str(i))\n",
    "\n",
    "print(finl)"
   ]
  }
 ],
 "metadata": {
  "kernelspec": {
   "display_name": "Python 3",
   "language": "python",
   "name": "python3"
  },
  "language_info": {
   "codemirror_mode": {
    "name": "ipython",
    "version": 3
   },
   "file_extension": ".py",
   "mimetype": "text/x-python",
   "name": "python",
   "nbconvert_exporter": "python",
   "pygments_lexer": "ipython3",
   "version": "3.10.12"
  },
  "orig_nbformat": 4
 },
 "nbformat": 4,
 "nbformat_minor": 2
}
