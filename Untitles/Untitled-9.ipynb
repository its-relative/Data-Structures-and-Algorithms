{
 "cells": [
  {
   "cell_type": "code",
   "execution_count": 3,
   "metadata": {},
   "outputs": [
    {
     "name": "stdout",
     "output_type": "stream",
     "text": [
      "Array is not sorted\n"
     ]
    }
   ],
   "source": [
    "def minimax(arr):\n",
    "    flag = True\n",
    "    count = 0\n",
    "    for i in range(len(arr)-1):\n",
    "        if max(arr[i],arr[i+1]) == arr[i+1]:\n",
    "            flag = True\n",
    "        else:\n",
    "            flag = False\n",
    "            break\n",
    "            # count = arr[i]\n",
    "    if flag == True:\n",
    "        print(\"Array is sorted\")\n",
    "        return\n",
    "    else:\n",
    "        print(\"Array is not sorted\")\n",
    "        return\n",
    "new_arr = [10, 24, 8, 43, 35, 12, 67, 89, 45, 2]\n",
    "# new_arr.sort()\n",
    "minimax(new_arr)"
   ]
  },
  {
   "cell_type": "code",
   "execution_count": null,
   "metadata": {},
   "outputs": [],
   "source": []
  }
 ],
 "metadata": {
  "kernelspec": {
   "display_name": "Python 3",
   "language": "python",
   "name": "python3"
  },
  "language_info": {
   "codemirror_mode": {
    "name": "ipython",
    "version": 3
   },
   "file_extension": ".py",
   "mimetype": "text/x-python",
   "name": "python",
   "nbconvert_exporter": "python",
   "pygments_lexer": "ipython3",
   "version": "3.10.12"
  },
  "orig_nbformat": 4
 },
 "nbformat": 4,
 "nbformat_minor": 2
}
