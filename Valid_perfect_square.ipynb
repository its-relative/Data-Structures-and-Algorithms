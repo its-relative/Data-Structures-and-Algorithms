{
 "cells": [
  {
   "cell_type": "markdown",
   "metadata": {},
   "source": [
    "# 367. Valid Perfect Square\n",
    "\n",
    "Given a positive integer num, return true if num is a perfect square or false otherwise.\n",
    "\n",
    "A perfect square is an integer that is the square of an integer. In other words, it is the product of some integer with itself.\n",
    "\n",
    "You must not use any built-in library function, such as sqrt.\n",
    "\n",
    " \n",
    "\n",
    "Example 1:\n",
    "\n",
    "Input: num = 16\n",
    "Output: true\n",
    "Explanation: We return true because 4 * 4 = 16 and 4 is an integer.\n",
    "Example 2:\n",
    "\n",
    "Input: num = 14\n",
    "Output: false\n",
    "Explanation: We return false because 3.742 * 3.742 = 14 and 3.742 is not an integer.\n",
    " \n",
    "\n",
    "Constraints:\n",
    "\n",
    "1 <= num <= 231 - 1"
   ]
  },
  {
   "cell_type": "code",
   "execution_count": null,
   "metadata": {},
   "outputs": [],
   "source": [
    "class Solution:\n",
    "    def isPerfectSquare(self, n: int) -> bool:\n",
    "        perfect = False\n",
    "        i = n **0.5\n",
    "        if n%i == 0.0:\n",
    "            perfect = True\n",
    "        else:\n",
    "            perfect = False\n",
    "        return perfect\n",
    "    "
   ]
  }
 ],
 "metadata": {
  "language_info": {
   "name": "python"
  },
  "orig_nbformat": 4
 },
 "nbformat": 4,
 "nbformat_minor": 2
}
