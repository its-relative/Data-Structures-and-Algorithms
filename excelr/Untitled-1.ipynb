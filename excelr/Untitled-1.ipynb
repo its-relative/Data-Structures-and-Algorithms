{
 "cells": [
  {
   "cell_type": "code",
   "execution_count": 2,
   "metadata": {},
   "outputs": [
    {
     "data": {
      "text/plain": [
       "['A', 'B', 'C', 'D', 'E']"
      ]
     },
     "execution_count": 2,
     "metadata": {},
     "output_type": "execute_result"
    }
   ],
   "source": [
    "list(\"ABCDE\")"
   ]
  },
  {
   "cell_type": "code",
   "execution_count": 3,
   "metadata": {},
   "outputs": [],
   "source": [
    "s = input()"
   ]
  },
  {
   "cell_type": "code",
   "execution_count": 8,
   "metadata": {},
   "outputs": [
    {
     "name": "stdout",
     "output_type": "stream",
     "text": [
      "A\n",
      "B\n",
      "C\n",
      "D\n",
      "E\n",
      "F\n",
      "G\n",
      "H\n",
      "I\n",
      "J\n",
      "K\n",
      "L\n",
      "M\n",
      "N\n",
      "O\n",
      "P\n",
      "Q\n",
      "R\n",
      "S\n",
      "T\n",
      "U\n",
      "V\n",
      "W\n",
      "X\n",
      "Y\n"
     ]
    }
   ],
   "source": [
    "for i in range(ord(\"A\"),ord(\"Z\")):\n",
    "    print(chr(i))"
   ]
  },
  {
   "cell_type": "code",
   "execution_count": 9,
   "metadata": {},
   "outputs": [],
   "source": [
    "import pandas as pd\n",
    "import numpy as np"
   ]
  },
  {
   "cell_type": "code",
   "execution_count": 15,
   "metadata": {},
   "outputs": [],
   "source": [
    "arr = np.random.rand(10)"
   ]
  },
  {
   "cell_type": "code",
   "execution_count": 19,
   "metadata": {},
   "outputs": [
    {
     "data": {
      "text/plain": [
       "array([0.14297751, 0.55490167, 0.92668139, 0.32858875, 0.27020353,\n",
       "       0.79962379, 0.82170148, 0.52362881, 0.97279765, 0.19079377])"
      ]
     },
     "execution_count": 19,
     "metadata": {},
     "output_type": "execute_result"
    }
   ],
   "source": [
    "arr"
   ]
  },
  {
   "cell_type": "markdown",
   "metadata": {},
   "source": [
    "### Lets create a Dataframe using np and pandas."
   ]
  },
  {
   "cell_type": "markdown",
   "metadata": {},
   "source": [
    "By the way the markup and code has shortcuts as M and Y that you can interchange by just using them when the whole code cell is selected."
   ]
  },
  {
   "cell_type": "markdown",
   "metadata": {},
   "source": [
    "#### Lets first create some pandas series"
   ]
  },
  {
   "cell_type": "markdown",
   "metadata": {},
   "source": [
    "Checking the ways to create and manipulate the pandas series."
   ]
  },
  {
   "cell_type": "code",
   "execution_count": 21,
   "metadata": {},
   "outputs": [],
   "source": [
    "\n",
    "check_arr = pd.Series(range(10))"
   ]
  },
  {
   "cell_type": "code",
   "execution_count": 23,
   "metadata": {},
   "outputs": [
    {
     "data": {
      "text/plain": [
       "0    0\n",
       "1    1\n",
       "2    2\n",
       "3    3\n",
       "4    4\n",
       "5    5\n",
       "6    6\n",
       "7    7\n",
       "8    8\n",
       "9    9\n",
       "dtype: int64"
      ]
     },
     "execution_count": 23,
     "metadata": {},
     "output_type": "execute_result"
    }
   ],
   "source": [
    "check_arr"
   ]
  },
  {
   "cell_type": "markdown",
   "metadata": {},
   "source": [
    "Now lets just create a pandas series with some random numbers using np.random.rand() funciton"
   ]
  },
  {
   "cell_type": "code",
   "execution_count": 25,
   "metadata": {},
   "outputs": [],
   "source": [
    "check_series = pd.Series(np.random.rand(10))"
   ]
  },
  {
   "cell_type": "code",
   "execution_count": 27,
   "metadata": {},
   "outputs": [
    {
     "data": {
      "text/plain": [
       "0    0.637242\n",
       "1    0.428537\n",
       "2    0.537003\n",
       "3    0.836552\n",
       "4    0.133525\n",
       "5    0.782316\n",
       "6    0.521064\n",
       "7    0.268087\n",
       "8    0.611311\n",
       "9    0.945539\n",
       "dtype: float64"
      ]
     },
     "execution_count": 27,
     "metadata": {},
     "output_type": "execute_result"
    }
   ],
   "source": [
    "check_series"
   ]
  },
  {
   "cell_type": "markdown",
   "metadata": {},
   "source": [
    "Lets try and change the values order to greater than 1 because right now most of the values are just less than 1."
   ]
  },
  {
   "cell_type": "markdown",
   "metadata": {},
   "source": [
    "If you want to generate a pandas Series with random integers using NumPy, you can use np.random.randint(). Here's an example:\n",
    "\n",
    "```python\n",
    "import pandas as pd\n",
    "import numpy as np\n",
    "\n",
    "# Generate a pandas Series with 10 random integers between a specified range\n",
    "random_integers = pd.Series(np.random.randint(1, 100, 10))\n",
    "\n",
    "print(random_integers)\n",
    "```\n",
    "Here's the breakdown of the arguments:\n",
    "\n",
    "1: The lower bound (inclusive) of the random integers.\n",
    "\n",
    "100: The upper bound (exclusive) of the random integers.\n",
    "\n",
    "10: The number of random integers to generate.\n",
    "\n",
    "So, in this case, it generates an array of 10 random integers between 1 and 99 (inclusive). If you want a different number of random integers, you can change the 10 to your desired size.\n"
   ]
  },
  {
   "cell_type": "code",
   "execution_count": 31,
   "metadata": {},
   "outputs": [],
   "source": [
    "# Lets just create a random number series of 10 numbers from 1 to 10\n",
    "int_arr = pd.Series(np.random.randint(1,100,10))"
   ]
  },
  {
   "cell_type": "code",
   "execution_count": 33,
   "metadata": {},
   "outputs": [
    {
     "data": {
      "text/plain": [
       "0    49\n",
       "1    94\n",
       "2    51\n",
       "3    85\n",
       "4    82\n",
       "5    70\n",
       "6    86\n",
       "7    29\n",
       "8    35\n",
       "9    15\n",
       "dtype: int64"
      ]
     },
     "execution_count": 33,
     "metadata": {},
     "output_type": "execute_result"
    }
   ],
   "source": [
    "int_arr"
   ]
  },
  {
   "cell_type": "markdown",
   "metadata": {},
   "source": [
    "Lets create a DataFrame. Notice the camelcase."
   ]
  },
  {
   "cell_type": "code",
   "execution_count": 35,
   "metadata": {},
   "outputs": [],
   "source": [
    "df = pd.DataFrame(np.random.rand(10,5))"
   ]
  },
  {
   "cell_type": "code",
   "execution_count": 37,
   "metadata": {},
   "outputs": [
    {
     "data": {
      "text/html": [
       "<div>\n",
       "<style scoped>\n",
       "    .dataframe tbody tr th:only-of-type {\n",
       "        vertical-align: middle;\n",
       "    }\n",
       "\n",
       "    .dataframe tbody tr th {\n",
       "        vertical-align: top;\n",
       "    }\n",
       "\n",
       "    .dataframe thead th {\n",
       "        text-align: right;\n",
       "    }\n",
       "</style>\n",
       "<table border=\"1\" class=\"dataframe\">\n",
       "  <thead>\n",
       "    <tr style=\"text-align: right;\">\n",
       "      <th></th>\n",
       "      <th>0</th>\n",
       "      <th>1</th>\n",
       "      <th>2</th>\n",
       "      <th>3</th>\n",
       "      <th>4</th>\n",
       "    </tr>\n",
       "  </thead>\n",
       "  <tbody>\n",
       "    <tr>\n",
       "      <th>0</th>\n",
       "      <td>0.631230</td>\n",
       "      <td>0.057129</td>\n",
       "      <td>0.350641</td>\n",
       "      <td>0.591068</td>\n",
       "      <td>0.715050</td>\n",
       "    </tr>\n",
       "    <tr>\n",
       "      <th>1</th>\n",
       "      <td>0.278867</td>\n",
       "      <td>0.540456</td>\n",
       "      <td>0.515308</td>\n",
       "      <td>0.330431</td>\n",
       "      <td>0.393848</td>\n",
       "    </tr>\n",
       "    <tr>\n",
       "      <th>2</th>\n",
       "      <td>0.744524</td>\n",
       "      <td>0.443568</td>\n",
       "      <td>0.277683</td>\n",
       "      <td>0.834251</td>\n",
       "      <td>0.362537</td>\n",
       "    </tr>\n",
       "    <tr>\n",
       "      <th>3</th>\n",
       "      <td>0.943919</td>\n",
       "      <td>0.574745</td>\n",
       "      <td>0.773337</td>\n",
       "      <td>0.019115</td>\n",
       "      <td>0.100282</td>\n",
       "    </tr>\n",
       "    <tr>\n",
       "      <th>4</th>\n",
       "      <td>0.164635</td>\n",
       "      <td>0.966834</td>\n",
       "      <td>0.346525</td>\n",
       "      <td>0.165385</td>\n",
       "      <td>0.744407</td>\n",
       "    </tr>\n",
       "    <tr>\n",
       "      <th>5</th>\n",
       "      <td>0.926555</td>\n",
       "      <td>0.575955</td>\n",
       "      <td>0.956713</td>\n",
       "      <td>0.281303</td>\n",
       "      <td>0.233874</td>\n",
       "    </tr>\n",
       "    <tr>\n",
       "      <th>6</th>\n",
       "      <td>0.791960</td>\n",
       "      <td>0.709589</td>\n",
       "      <td>0.471464</td>\n",
       "      <td>0.498439</td>\n",
       "      <td>0.650290</td>\n",
       "    </tr>\n",
       "    <tr>\n",
       "      <th>7</th>\n",
       "      <td>0.287894</td>\n",
       "      <td>0.044054</td>\n",
       "      <td>0.944161</td>\n",
       "      <td>0.135973</td>\n",
       "      <td>0.700443</td>\n",
       "    </tr>\n",
       "    <tr>\n",
       "      <th>8</th>\n",
       "      <td>0.868488</td>\n",
       "      <td>0.688508</td>\n",
       "      <td>0.268326</td>\n",
       "      <td>0.410258</td>\n",
       "      <td>0.110469</td>\n",
       "    </tr>\n",
       "    <tr>\n",
       "      <th>9</th>\n",
       "      <td>0.401630</td>\n",
       "      <td>0.019881</td>\n",
       "      <td>0.185823</td>\n",
       "      <td>0.343075</td>\n",
       "      <td>0.302092</td>\n",
       "    </tr>\n",
       "  </tbody>\n",
       "</table>\n",
       "</div>"
      ],
      "text/plain": [
       "          0         1         2         3         4\n",
       "0  0.631230  0.057129  0.350641  0.591068  0.715050\n",
       "1  0.278867  0.540456  0.515308  0.330431  0.393848\n",
       "2  0.744524  0.443568  0.277683  0.834251  0.362537\n",
       "3  0.943919  0.574745  0.773337  0.019115  0.100282\n",
       "4  0.164635  0.966834  0.346525  0.165385  0.744407\n",
       "5  0.926555  0.575955  0.956713  0.281303  0.233874\n",
       "6  0.791960  0.709589  0.471464  0.498439  0.650290\n",
       "7  0.287894  0.044054  0.944161  0.135973  0.700443\n",
       "8  0.868488  0.688508  0.268326  0.410258  0.110469\n",
       "9  0.401630  0.019881  0.185823  0.343075  0.302092"
      ]
     },
     "execution_count": 37,
     "metadata": {},
     "output_type": "execute_result"
    }
   ],
   "source": [
    "df"
   ]
  },
  {
   "cell_type": "code",
   "execution_count": 39,
   "metadata": {},
   "outputs": [],
   "source": [
    "df.columns = list(\"ABCDE\")"
   ]
  },
  {
   "cell_type": "code",
   "execution_count": 41,
   "metadata": {},
   "outputs": [
    {
     "data": {
      "text/html": [
       "<div>\n",
       "<style scoped>\n",
       "    .dataframe tbody tr th:only-of-type {\n",
       "        vertical-align: middle;\n",
       "    }\n",
       "\n",
       "    .dataframe tbody tr th {\n",
       "        vertical-align: top;\n",
       "    }\n",
       "\n",
       "    .dataframe thead th {\n",
       "        text-align: right;\n",
       "    }\n",
       "</style>\n",
       "<table border=\"1\" class=\"dataframe\">\n",
       "  <thead>\n",
       "    <tr style=\"text-align: right;\">\n",
       "      <th></th>\n",
       "      <th>A</th>\n",
       "      <th>B</th>\n",
       "      <th>C</th>\n",
       "      <th>D</th>\n",
       "      <th>E</th>\n",
       "    </tr>\n",
       "  </thead>\n",
       "  <tbody>\n",
       "    <tr>\n",
       "      <th>0</th>\n",
       "      <td>0.631230</td>\n",
       "      <td>0.057129</td>\n",
       "      <td>0.350641</td>\n",
       "      <td>0.591068</td>\n",
       "      <td>0.715050</td>\n",
       "    </tr>\n",
       "    <tr>\n",
       "      <th>1</th>\n",
       "      <td>0.278867</td>\n",
       "      <td>0.540456</td>\n",
       "      <td>0.515308</td>\n",
       "      <td>0.330431</td>\n",
       "      <td>0.393848</td>\n",
       "    </tr>\n",
       "    <tr>\n",
       "      <th>2</th>\n",
       "      <td>0.744524</td>\n",
       "      <td>0.443568</td>\n",
       "      <td>0.277683</td>\n",
       "      <td>0.834251</td>\n",
       "      <td>0.362537</td>\n",
       "    </tr>\n",
       "    <tr>\n",
       "      <th>3</th>\n",
       "      <td>0.943919</td>\n",
       "      <td>0.574745</td>\n",
       "      <td>0.773337</td>\n",
       "      <td>0.019115</td>\n",
       "      <td>0.100282</td>\n",
       "    </tr>\n",
       "    <tr>\n",
       "      <th>4</th>\n",
       "      <td>0.164635</td>\n",
       "      <td>0.966834</td>\n",
       "      <td>0.346525</td>\n",
       "      <td>0.165385</td>\n",
       "      <td>0.744407</td>\n",
       "    </tr>\n",
       "    <tr>\n",
       "      <th>5</th>\n",
       "      <td>0.926555</td>\n",
       "      <td>0.575955</td>\n",
       "      <td>0.956713</td>\n",
       "      <td>0.281303</td>\n",
       "      <td>0.233874</td>\n",
       "    </tr>\n",
       "    <tr>\n",
       "      <th>6</th>\n",
       "      <td>0.791960</td>\n",
       "      <td>0.709589</td>\n",
       "      <td>0.471464</td>\n",
       "      <td>0.498439</td>\n",
       "      <td>0.650290</td>\n",
       "    </tr>\n",
       "    <tr>\n",
       "      <th>7</th>\n",
       "      <td>0.287894</td>\n",
       "      <td>0.044054</td>\n",
       "      <td>0.944161</td>\n",
       "      <td>0.135973</td>\n",
       "      <td>0.700443</td>\n",
       "    </tr>\n",
       "    <tr>\n",
       "      <th>8</th>\n",
       "      <td>0.868488</td>\n",
       "      <td>0.688508</td>\n",
       "      <td>0.268326</td>\n",
       "      <td>0.410258</td>\n",
       "      <td>0.110469</td>\n",
       "    </tr>\n",
       "    <tr>\n",
       "      <th>9</th>\n",
       "      <td>0.401630</td>\n",
       "      <td>0.019881</td>\n",
       "      <td>0.185823</td>\n",
       "      <td>0.343075</td>\n",
       "      <td>0.302092</td>\n",
       "    </tr>\n",
       "  </tbody>\n",
       "</table>\n",
       "</div>"
      ],
      "text/plain": [
       "          A         B         C         D         E\n",
       "0  0.631230  0.057129  0.350641  0.591068  0.715050\n",
       "1  0.278867  0.540456  0.515308  0.330431  0.393848\n",
       "2  0.744524  0.443568  0.277683  0.834251  0.362537\n",
       "3  0.943919  0.574745  0.773337  0.019115  0.100282\n",
       "4  0.164635  0.966834  0.346525  0.165385  0.744407\n",
       "5  0.926555  0.575955  0.956713  0.281303  0.233874\n",
       "6  0.791960  0.709589  0.471464  0.498439  0.650290\n",
       "7  0.287894  0.044054  0.944161  0.135973  0.700443\n",
       "8  0.868488  0.688508  0.268326  0.410258  0.110469\n",
       "9  0.401630  0.019881  0.185823  0.343075  0.302092"
      ]
     },
     "execution_count": 41,
     "metadata": {},
     "output_type": "execute_result"
    }
   ],
   "source": [
    "df"
   ]
  },
  {
   "cell_type": "code",
   "execution_count": 43,
   "metadata": {},
   "outputs": [],
   "source": [
    "df[\"A\"][0] = 32"
   ]
  },
  {
   "cell_type": "code",
   "execution_count": 45,
   "metadata": {},
   "outputs": [
    {
     "data": {
      "text/html": [
       "<div>\n",
       "<style scoped>\n",
       "    .dataframe tbody tr th:only-of-type {\n",
       "        vertical-align: middle;\n",
       "    }\n",
       "\n",
       "    .dataframe tbody tr th {\n",
       "        vertical-align: top;\n",
       "    }\n",
       "\n",
       "    .dataframe thead th {\n",
       "        text-align: right;\n",
       "    }\n",
       "</style>\n",
       "<table border=\"1\" class=\"dataframe\">\n",
       "  <thead>\n",
       "    <tr style=\"text-align: right;\">\n",
       "      <th></th>\n",
       "      <th>A</th>\n",
       "      <th>B</th>\n",
       "      <th>C</th>\n",
       "      <th>D</th>\n",
       "      <th>E</th>\n",
       "    </tr>\n",
       "  </thead>\n",
       "  <tbody>\n",
       "    <tr>\n",
       "      <th>0</th>\n",
       "      <td>32.000000</td>\n",
       "      <td>0.057129</td>\n",
       "      <td>0.350641</td>\n",
       "      <td>0.591068</td>\n",
       "      <td>0.715050</td>\n",
       "    </tr>\n",
       "    <tr>\n",
       "      <th>1</th>\n",
       "      <td>0.278867</td>\n",
       "      <td>0.540456</td>\n",
       "      <td>0.515308</td>\n",
       "      <td>0.330431</td>\n",
       "      <td>0.393848</td>\n",
       "    </tr>\n",
       "    <tr>\n",
       "      <th>2</th>\n",
       "      <td>0.744524</td>\n",
       "      <td>0.443568</td>\n",
       "      <td>0.277683</td>\n",
       "      <td>0.834251</td>\n",
       "      <td>0.362537</td>\n",
       "    </tr>\n",
       "    <tr>\n",
       "      <th>3</th>\n",
       "      <td>0.943919</td>\n",
       "      <td>0.574745</td>\n",
       "      <td>0.773337</td>\n",
       "      <td>0.019115</td>\n",
       "      <td>0.100282</td>\n",
       "    </tr>\n",
       "    <tr>\n",
       "      <th>4</th>\n",
       "      <td>0.164635</td>\n",
       "      <td>0.966834</td>\n",
       "      <td>0.346525</td>\n",
       "      <td>0.165385</td>\n",
       "      <td>0.744407</td>\n",
       "    </tr>\n",
       "    <tr>\n",
       "      <th>5</th>\n",
       "      <td>0.926555</td>\n",
       "      <td>0.575955</td>\n",
       "      <td>0.956713</td>\n",
       "      <td>0.281303</td>\n",
       "      <td>0.233874</td>\n",
       "    </tr>\n",
       "    <tr>\n",
       "      <th>6</th>\n",
       "      <td>0.791960</td>\n",
       "      <td>0.709589</td>\n",
       "      <td>0.471464</td>\n",
       "      <td>0.498439</td>\n",
       "      <td>0.650290</td>\n",
       "    </tr>\n",
       "    <tr>\n",
       "      <th>7</th>\n",
       "      <td>0.287894</td>\n",
       "      <td>0.044054</td>\n",
       "      <td>0.944161</td>\n",
       "      <td>0.135973</td>\n",
       "      <td>0.700443</td>\n",
       "    </tr>\n",
       "    <tr>\n",
       "      <th>8</th>\n",
       "      <td>0.868488</td>\n",
       "      <td>0.688508</td>\n",
       "      <td>0.268326</td>\n",
       "      <td>0.410258</td>\n",
       "      <td>0.110469</td>\n",
       "    </tr>\n",
       "    <tr>\n",
       "      <th>9</th>\n",
       "      <td>0.401630</td>\n",
       "      <td>0.019881</td>\n",
       "      <td>0.185823</td>\n",
       "      <td>0.343075</td>\n",
       "      <td>0.302092</td>\n",
       "    </tr>\n",
       "  </tbody>\n",
       "</table>\n",
       "</div>"
      ],
      "text/plain": [
       "           A         B         C         D         E\n",
       "0  32.000000  0.057129  0.350641  0.591068  0.715050\n",
       "1   0.278867  0.540456  0.515308  0.330431  0.393848\n",
       "2   0.744524  0.443568  0.277683  0.834251  0.362537\n",
       "3   0.943919  0.574745  0.773337  0.019115  0.100282\n",
       "4   0.164635  0.966834  0.346525  0.165385  0.744407\n",
       "5   0.926555  0.575955  0.956713  0.281303  0.233874\n",
       "6   0.791960  0.709589  0.471464  0.498439  0.650290\n",
       "7   0.287894  0.044054  0.944161  0.135973  0.700443\n",
       "8   0.868488  0.688508  0.268326  0.410258  0.110469\n",
       "9   0.401630  0.019881  0.185823  0.343075  0.302092"
      ]
     },
     "execution_count": 45,
     "metadata": {},
     "output_type": "execute_result"
    }
   ],
   "source": [
    "df"
   ]
  },
  {
   "cell_type": "code",
   "execution_count": 56,
   "metadata": {},
   "outputs": [],
   "source": [
    "df.columns = list(\"SAPEK\")\n"
   ]
  },
  {
   "cell_type": "code",
   "execution_count": 69,
   "metadata": {},
   "outputs": [],
   "source": [
    "df[\"S\"][0] = 0.2312313123"
   ]
  },
  {
   "cell_type": "code",
   "execution_count": 76,
   "metadata": {},
   "outputs": [],
   "source": [
    "df_nan = df[df[[\"S\",\"A\",\"P\",\"E\",\"K\"]] > 0.4]"
   ]
  },
  {
   "cell_type": "code",
   "execution_count": 81,
   "metadata": {},
   "outputs": [
    {
     "data": {
      "text/plain": [
       "S    4\n",
       "A    3\n",
       "P    5\n",
       "E    6\n",
       "K    6\n",
       "dtype: int64"
      ]
     },
     "execution_count": 81,
     "metadata": {},
     "output_type": "execute_result"
    }
   ],
   "source": [
    "df_nan.isna().sum()[df_nan.isna().any()]"
   ]
  },
  {
   "cell_type": "code",
   "execution_count": 86,
   "metadata": {},
   "outputs": [],
   "source": [
    "column_names = list(\"ABCDEFGH\")\n",
    "df2 = pd.DataFrame(np.random.randint(1,100,(10,len(column_names))),columns= column_names)"
   ]
  },
  {
   "cell_type": "code",
   "execution_count": 87,
   "metadata": {},
   "outputs": [
    {
     "data": {
      "text/html": [
       "<div>\n",
       "<style scoped>\n",
       "    .dataframe tbody tr th:only-of-type {\n",
       "        vertical-align: middle;\n",
       "    }\n",
       "\n",
       "    .dataframe tbody tr th {\n",
       "        vertical-align: top;\n",
       "    }\n",
       "\n",
       "    .dataframe thead th {\n",
       "        text-align: right;\n",
       "    }\n",
       "</style>\n",
       "<table border=\"1\" class=\"dataframe\">\n",
       "  <thead>\n",
       "    <tr style=\"text-align: right;\">\n",
       "      <th></th>\n",
       "      <th>A</th>\n",
       "      <th>B</th>\n",
       "      <th>C</th>\n",
       "      <th>D</th>\n",
       "      <th>E</th>\n",
       "      <th>F</th>\n",
       "      <th>G</th>\n",
       "      <th>H</th>\n",
       "    </tr>\n",
       "  </thead>\n",
       "  <tbody>\n",
       "    <tr>\n",
       "      <th>0</th>\n",
       "      <td>86</td>\n",
       "      <td>49</td>\n",
       "      <td>42</td>\n",
       "      <td>8</td>\n",
       "      <td>72</td>\n",
       "      <td>71</td>\n",
       "      <td>28</td>\n",
       "      <td>56</td>\n",
       "    </tr>\n",
       "    <tr>\n",
       "      <th>1</th>\n",
       "      <td>9</td>\n",
       "      <td>95</td>\n",
       "      <td>4</td>\n",
       "      <td>71</td>\n",
       "      <td>64</td>\n",
       "      <td>48</td>\n",
       "      <td>31</td>\n",
       "      <td>57</td>\n",
       "    </tr>\n",
       "    <tr>\n",
       "      <th>2</th>\n",
       "      <td>91</td>\n",
       "      <td>8</td>\n",
       "      <td>75</td>\n",
       "      <td>26</td>\n",
       "      <td>78</td>\n",
       "      <td>49</td>\n",
       "      <td>30</td>\n",
       "      <td>5</td>\n",
       "    </tr>\n",
       "    <tr>\n",
       "      <th>3</th>\n",
       "      <td>60</td>\n",
       "      <td>63</td>\n",
       "      <td>37</td>\n",
       "      <td>8</td>\n",
       "      <td>79</td>\n",
       "      <td>23</td>\n",
       "      <td>35</td>\n",
       "      <td>78</td>\n",
       "    </tr>\n",
       "    <tr>\n",
       "      <th>4</th>\n",
       "      <td>18</td>\n",
       "      <td>10</td>\n",
       "      <td>65</td>\n",
       "      <td>74</td>\n",
       "      <td>72</td>\n",
       "      <td>62</td>\n",
       "      <td>77</td>\n",
       "      <td>29</td>\n",
       "    </tr>\n",
       "    <tr>\n",
       "      <th>5</th>\n",
       "      <td>88</td>\n",
       "      <td>49</td>\n",
       "      <td>79</td>\n",
       "      <td>26</td>\n",
       "      <td>80</td>\n",
       "      <td>88</td>\n",
       "      <td>91</td>\n",
       "      <td>69</td>\n",
       "    </tr>\n",
       "    <tr>\n",
       "      <th>6</th>\n",
       "      <td>51</td>\n",
       "      <td>82</td>\n",
       "      <td>41</td>\n",
       "      <td>48</td>\n",
       "      <td>28</td>\n",
       "      <td>36</td>\n",
       "      <td>40</td>\n",
       "      <td>43</td>\n",
       "    </tr>\n",
       "    <tr>\n",
       "      <th>7</th>\n",
       "      <td>65</td>\n",
       "      <td>27</td>\n",
       "      <td>60</td>\n",
       "      <td>36</td>\n",
       "      <td>48</td>\n",
       "      <td>65</td>\n",
       "      <td>58</td>\n",
       "      <td>8</td>\n",
       "    </tr>\n",
       "    <tr>\n",
       "      <th>8</th>\n",
       "      <td>29</td>\n",
       "      <td>6</td>\n",
       "      <td>77</td>\n",
       "      <td>96</td>\n",
       "      <td>24</td>\n",
       "      <td>2</td>\n",
       "      <td>85</td>\n",
       "      <td>92</td>\n",
       "    </tr>\n",
       "    <tr>\n",
       "      <th>9</th>\n",
       "      <td>69</td>\n",
       "      <td>16</td>\n",
       "      <td>67</td>\n",
       "      <td>88</td>\n",
       "      <td>20</td>\n",
       "      <td>42</td>\n",
       "      <td>6</td>\n",
       "      <td>89</td>\n",
       "    </tr>\n",
       "  </tbody>\n",
       "</table>\n",
       "</div>"
      ],
      "text/plain": [
       "    A   B   C   D   E   F   G   H\n",
       "0  86  49  42   8  72  71  28  56\n",
       "1   9  95   4  71  64  48  31  57\n",
       "2  91   8  75  26  78  49  30   5\n",
       "3  60  63  37   8  79  23  35  78\n",
       "4  18  10  65  74  72  62  77  29\n",
       "5  88  49  79  26  80  88  91  69\n",
       "6  51  82  41  48  28  36  40  43\n",
       "7  65  27  60  36  48  65  58   8\n",
       "8  29   6  77  96  24   2  85  92\n",
       "9  69  16  67  88  20  42   6  89"
      ]
     },
     "execution_count": 87,
     "metadata": {},
     "output_type": "execute_result"
    }
   ],
   "source": [
    "df2"
   ]
  }
 ],
 "metadata": {
  "kernelspec": {
   "display_name": "Python 3",
   "language": "python",
   "name": "python3"
  },
  "language_info": {
   "codemirror_mode": {
    "name": "ipython",
    "version": 3
   },
   "file_extension": ".py",
   "mimetype": "text/x-python",
   "name": "python",
   "nbconvert_exporter": "python",
   "pygments_lexer": "ipython3",
   "version": "3.10.12"
  }
 },
 "nbformat": 4,
 "nbformat_minor": 2
}
