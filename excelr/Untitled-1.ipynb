{
 "cells": [
  {
   "cell_type": "code",
   "execution_count": 2,
   "metadata": {},
   "outputs": [
    {
     "data": {
      "text/plain": [
       "['A', 'B', 'C', 'D', 'E']"
      ]
     },
     "execution_count": 2,
     "metadata": {},
     "output_type": "execute_result"
    }
   ],
   "source": [
    "list(\"ABCDE\")"
   ]
  },
  {
   "cell_type": "code",
   "execution_count": 3,
   "metadata": {},
   "outputs": [],
   "source": [
    "s = input()"
   ]
  },
  {
   "cell_type": "code",
   "execution_count": 4,
   "metadata": {},
   "outputs": [
    {
     "name": "stdout",
     "output_type": "stream",
     "text": [
      "A\n",
      "B\n",
      "C\n",
      "D\n",
      "E\n",
      "F\n",
      "G\n",
      "H\n",
      "I\n",
      "J\n",
      "K\n",
      "L\n",
      "M\n",
      "N\n",
      "O\n",
      "P\n",
      "Q\n",
      "R\n",
      "S\n",
      "T\n",
      "U\n",
      "V\n",
      "W\n",
      "X\n",
      "Y\n"
     ]
    }
   ],
   "source": [
    "for i in range(ord(\"A\"),ord(\"Z\")):\n",
    "    print(chr(i))"
   ]
  },
  {
   "cell_type": "code",
   "execution_count": 5,
   "metadata": {},
   "outputs": [],
   "source": [
    "import pandas as pd\n",
    "import numpy as np"
   ]
  },
  {
   "cell_type": "code",
   "execution_count": 6,
   "metadata": {},
   "outputs": [],
   "source": [
    "arr = np.random.rand(10)"
   ]
  },
  {
   "cell_type": "code",
   "execution_count": 7,
   "metadata": {},
   "outputs": [
    {
     "data": {
      "text/plain": [
       "array([0.73638107, 0.14415087, 0.51229549, 0.17685043, 0.15619542,\n",
       "       0.48686318, 0.00290187, 0.67294303, 0.5357252 , 0.1562734 ])"
      ]
     },
     "execution_count": 7,
     "metadata": {},
     "output_type": "execute_result"
    }
   ],
   "source": [
    "arr"
   ]
  },
  {
   "cell_type": "markdown",
   "metadata": {},
   "source": [
    "### Lets create a Dataframe using np and pandas."
   ]
  },
  {
   "cell_type": "markdown",
   "metadata": {},
   "source": [
    "By the way the markup and code has shortcuts as M and Y that you can interchange by just using them when the whole code cell is selected."
   ]
  },
  {
   "cell_type": "markdown",
   "metadata": {},
   "source": [
    "#### Lets first create some pandas series"
   ]
  },
  {
   "cell_type": "markdown",
   "metadata": {},
   "source": [
    "Checking the ways to create and manipulate the pandas series."
   ]
  },
  {
   "cell_type": "code",
   "execution_count": 8,
   "metadata": {},
   "outputs": [],
   "source": [
    "\n",
    "check_arr = pd.Series(range(10))"
   ]
  },
  {
   "cell_type": "code",
   "execution_count": 9,
   "metadata": {},
   "outputs": [
    {
     "data": {
      "text/plain": [
       "0    0\n",
       "1    1\n",
       "2    2\n",
       "3    3\n",
       "4    4\n",
       "5    5\n",
       "6    6\n",
       "7    7\n",
       "8    8\n",
       "9    9\n",
       "dtype: int64"
      ]
     },
     "execution_count": 9,
     "metadata": {},
     "output_type": "execute_result"
    }
   ],
   "source": [
    "check_arr"
   ]
  },
  {
   "cell_type": "markdown",
   "metadata": {},
   "source": [
    "Now lets just create a pandas series with some random numbers using np.random.rand() funciton"
   ]
  },
  {
   "cell_type": "code",
   "execution_count": 10,
   "metadata": {},
   "outputs": [],
   "source": [
    "check_series = pd.Series(np.random.rand(10))"
   ]
  },
  {
   "cell_type": "code",
   "execution_count": 11,
   "metadata": {},
   "outputs": [
    {
     "data": {
      "text/plain": [
       "0    0.456350\n",
       "1    0.456431\n",
       "2    0.592317\n",
       "3    0.294683\n",
       "4    0.657482\n",
       "5    0.724862\n",
       "6    0.119145\n",
       "7    0.682039\n",
       "8    0.245930\n",
       "9    0.128786\n",
       "dtype: float64"
      ]
     },
     "execution_count": 11,
     "metadata": {},
     "output_type": "execute_result"
    }
   ],
   "source": [
    "check_series"
   ]
  },
  {
   "cell_type": "markdown",
   "metadata": {},
   "source": [
    "Lets try and change the values order to greater than 1 because right now most of the values are just less than 1."
   ]
  },
  {
   "cell_type": "markdown",
   "metadata": {},
   "source": [
    "If you want to generate a pandas Series with random integers using NumPy, you can use np.random.randint(). Here's an example:\n",
    "\n",
    "```python\n",
    "import pandas as pd\n",
    "import numpy as np\n",
    "\n",
    "# Generate a pandas Series with 10 random integers between a specified range\n",
    "random_integers = pd.Series(np.random.randint(1, 100, 10))\n",
    "\n",
    "print(random_integers)\n",
    "```\n",
    "Here's the breakdown of the arguments:\n",
    "\n",
    "1: The lower bound (inclusive) of the random integers.\n",
    "\n",
    "100: The upper bound (exclusive) of the random integers.\n",
    "\n",
    "10: The number of random integers to generate.\n",
    "\n",
    "So, in this case, it generates an array of 10 random integers between 1 and 99 (inclusive). If you want a different number of random integers, you can change the 10 to your desired size.\n"
   ]
  },
  {
   "cell_type": "code",
   "execution_count": 12,
   "metadata": {},
   "outputs": [],
   "source": [
    "# Lets just create a random number series of 10 numbers from 1 to 10\n",
    "int_arr = pd.Series(np.random.randint(1,100,10))"
   ]
  },
  {
   "cell_type": "code",
   "execution_count": 13,
   "metadata": {},
   "outputs": [
    {
     "data": {
      "text/plain": [
       "0    19\n",
       "1    23\n",
       "2    31\n",
       "3    24\n",
       "4    53\n",
       "5     7\n",
       "6    31\n",
       "7    26\n",
       "8    10\n",
       "9     6\n",
       "dtype: int64"
      ]
     },
     "execution_count": 13,
     "metadata": {},
     "output_type": "execute_result"
    }
   ],
   "source": [
    "int_arr"
   ]
  },
  {
   "cell_type": "markdown",
   "metadata": {},
   "source": [
    "Lets create a DataFrame. Notice the camelcase."
   ]
  },
  {
   "cell_type": "code",
   "execution_count": 14,
   "metadata": {},
   "outputs": [],
   "source": [
    "df = pd.DataFrame(np.random.rand(10,5))"
   ]
  },
  {
   "cell_type": "code",
   "execution_count": 15,
   "metadata": {},
   "outputs": [
    {
     "data": {
      "text/html": [
       "<div>\n",
       "<style scoped>\n",
       "    .dataframe tbody tr th:only-of-type {\n",
       "        vertical-align: middle;\n",
       "    }\n",
       "\n",
       "    .dataframe tbody tr th {\n",
       "        vertical-align: top;\n",
       "    }\n",
       "\n",
       "    .dataframe thead th {\n",
       "        text-align: right;\n",
       "    }\n",
       "</style>\n",
       "<table border=\"1\" class=\"dataframe\">\n",
       "  <thead>\n",
       "    <tr style=\"text-align: right;\">\n",
       "      <th></th>\n",
       "      <th>0</th>\n",
       "      <th>1</th>\n",
       "      <th>2</th>\n",
       "      <th>3</th>\n",
       "      <th>4</th>\n",
       "    </tr>\n",
       "  </thead>\n",
       "  <tbody>\n",
       "    <tr>\n",
       "      <th>0</th>\n",
       "      <td>0.141105</td>\n",
       "      <td>0.130891</td>\n",
       "      <td>0.509369</td>\n",
       "      <td>0.136445</td>\n",
       "      <td>0.722769</td>\n",
       "    </tr>\n",
       "    <tr>\n",
       "      <th>1</th>\n",
       "      <td>0.607628</td>\n",
       "      <td>0.134065</td>\n",
       "      <td>0.724415</td>\n",
       "      <td>0.449159</td>\n",
       "      <td>0.637639</td>\n",
       "    </tr>\n",
       "    <tr>\n",
       "      <th>2</th>\n",
       "      <td>0.360570</td>\n",
       "      <td>0.075265</td>\n",
       "      <td>0.504686</td>\n",
       "      <td>0.698314</td>\n",
       "      <td>0.308421</td>\n",
       "    </tr>\n",
       "    <tr>\n",
       "      <th>3</th>\n",
       "      <td>0.094024</td>\n",
       "      <td>0.314987</td>\n",
       "      <td>0.646129</td>\n",
       "      <td>0.462123</td>\n",
       "      <td>0.296827</td>\n",
       "    </tr>\n",
       "    <tr>\n",
       "      <th>4</th>\n",
       "      <td>0.104408</td>\n",
       "      <td>0.838501</td>\n",
       "      <td>0.674319</td>\n",
       "      <td>0.385195</td>\n",
       "      <td>0.234988</td>\n",
       "    </tr>\n",
       "    <tr>\n",
       "      <th>5</th>\n",
       "      <td>0.179697</td>\n",
       "      <td>0.911814</td>\n",
       "      <td>0.014826</td>\n",
       "      <td>0.815827</td>\n",
       "      <td>0.615458</td>\n",
       "    </tr>\n",
       "    <tr>\n",
       "      <th>6</th>\n",
       "      <td>0.291339</td>\n",
       "      <td>0.411966</td>\n",
       "      <td>0.720349</td>\n",
       "      <td>0.430866</td>\n",
       "      <td>0.601203</td>\n",
       "    </tr>\n",
       "    <tr>\n",
       "      <th>7</th>\n",
       "      <td>0.712620</td>\n",
       "      <td>0.247945</td>\n",
       "      <td>0.069051</td>\n",
       "      <td>0.325165</td>\n",
       "      <td>0.303177</td>\n",
       "    </tr>\n",
       "    <tr>\n",
       "      <th>8</th>\n",
       "      <td>0.588716</td>\n",
       "      <td>0.977426</td>\n",
       "      <td>0.223147</td>\n",
       "      <td>0.957699</td>\n",
       "      <td>0.400417</td>\n",
       "    </tr>\n",
       "    <tr>\n",
       "      <th>9</th>\n",
       "      <td>0.827807</td>\n",
       "      <td>0.058257</td>\n",
       "      <td>0.864668</td>\n",
       "      <td>0.058263</td>\n",
       "      <td>0.637532</td>\n",
       "    </tr>\n",
       "  </tbody>\n",
       "</table>\n",
       "</div>"
      ],
      "text/plain": [
       "          0         1         2         3         4\n",
       "0  0.141105  0.130891  0.509369  0.136445  0.722769\n",
       "1  0.607628  0.134065  0.724415  0.449159  0.637639\n",
       "2  0.360570  0.075265  0.504686  0.698314  0.308421\n",
       "3  0.094024  0.314987  0.646129  0.462123  0.296827\n",
       "4  0.104408  0.838501  0.674319  0.385195  0.234988\n",
       "5  0.179697  0.911814  0.014826  0.815827  0.615458\n",
       "6  0.291339  0.411966  0.720349  0.430866  0.601203\n",
       "7  0.712620  0.247945  0.069051  0.325165  0.303177\n",
       "8  0.588716  0.977426  0.223147  0.957699  0.400417\n",
       "9  0.827807  0.058257  0.864668  0.058263  0.637532"
      ]
     },
     "execution_count": 15,
     "metadata": {},
     "output_type": "execute_result"
    }
   ],
   "source": [
    "df"
   ]
  },
  {
   "cell_type": "code",
   "execution_count": 16,
   "metadata": {},
   "outputs": [],
   "source": [
    "df.columns = list(\"ABCDE\")"
   ]
  },
  {
   "cell_type": "code",
   "execution_count": 17,
   "metadata": {},
   "outputs": [
    {
     "data": {
      "text/html": [
       "<div>\n",
       "<style scoped>\n",
       "    .dataframe tbody tr th:only-of-type {\n",
       "        vertical-align: middle;\n",
       "    }\n",
       "\n",
       "    .dataframe tbody tr th {\n",
       "        vertical-align: top;\n",
       "    }\n",
       "\n",
       "    .dataframe thead th {\n",
       "        text-align: right;\n",
       "    }\n",
       "</style>\n",
       "<table border=\"1\" class=\"dataframe\">\n",
       "  <thead>\n",
       "    <tr style=\"text-align: right;\">\n",
       "      <th></th>\n",
       "      <th>A</th>\n",
       "      <th>B</th>\n",
       "      <th>C</th>\n",
       "      <th>D</th>\n",
       "      <th>E</th>\n",
       "    </tr>\n",
       "  </thead>\n",
       "  <tbody>\n",
       "    <tr>\n",
       "      <th>0</th>\n",
       "      <td>0.141105</td>\n",
       "      <td>0.130891</td>\n",
       "      <td>0.509369</td>\n",
       "      <td>0.136445</td>\n",
       "      <td>0.722769</td>\n",
       "    </tr>\n",
       "    <tr>\n",
       "      <th>1</th>\n",
       "      <td>0.607628</td>\n",
       "      <td>0.134065</td>\n",
       "      <td>0.724415</td>\n",
       "      <td>0.449159</td>\n",
       "      <td>0.637639</td>\n",
       "    </tr>\n",
       "    <tr>\n",
       "      <th>2</th>\n",
       "      <td>0.360570</td>\n",
       "      <td>0.075265</td>\n",
       "      <td>0.504686</td>\n",
       "      <td>0.698314</td>\n",
       "      <td>0.308421</td>\n",
       "    </tr>\n",
       "    <tr>\n",
       "      <th>3</th>\n",
       "      <td>0.094024</td>\n",
       "      <td>0.314987</td>\n",
       "      <td>0.646129</td>\n",
       "      <td>0.462123</td>\n",
       "      <td>0.296827</td>\n",
       "    </tr>\n",
       "    <tr>\n",
       "      <th>4</th>\n",
       "      <td>0.104408</td>\n",
       "      <td>0.838501</td>\n",
       "      <td>0.674319</td>\n",
       "      <td>0.385195</td>\n",
       "      <td>0.234988</td>\n",
       "    </tr>\n",
       "    <tr>\n",
       "      <th>5</th>\n",
       "      <td>0.179697</td>\n",
       "      <td>0.911814</td>\n",
       "      <td>0.014826</td>\n",
       "      <td>0.815827</td>\n",
       "      <td>0.615458</td>\n",
       "    </tr>\n",
       "    <tr>\n",
       "      <th>6</th>\n",
       "      <td>0.291339</td>\n",
       "      <td>0.411966</td>\n",
       "      <td>0.720349</td>\n",
       "      <td>0.430866</td>\n",
       "      <td>0.601203</td>\n",
       "    </tr>\n",
       "    <tr>\n",
       "      <th>7</th>\n",
       "      <td>0.712620</td>\n",
       "      <td>0.247945</td>\n",
       "      <td>0.069051</td>\n",
       "      <td>0.325165</td>\n",
       "      <td>0.303177</td>\n",
       "    </tr>\n",
       "    <tr>\n",
       "      <th>8</th>\n",
       "      <td>0.588716</td>\n",
       "      <td>0.977426</td>\n",
       "      <td>0.223147</td>\n",
       "      <td>0.957699</td>\n",
       "      <td>0.400417</td>\n",
       "    </tr>\n",
       "    <tr>\n",
       "      <th>9</th>\n",
       "      <td>0.827807</td>\n",
       "      <td>0.058257</td>\n",
       "      <td>0.864668</td>\n",
       "      <td>0.058263</td>\n",
       "      <td>0.637532</td>\n",
       "    </tr>\n",
       "  </tbody>\n",
       "</table>\n",
       "</div>"
      ],
      "text/plain": [
       "          A         B         C         D         E\n",
       "0  0.141105  0.130891  0.509369  0.136445  0.722769\n",
       "1  0.607628  0.134065  0.724415  0.449159  0.637639\n",
       "2  0.360570  0.075265  0.504686  0.698314  0.308421\n",
       "3  0.094024  0.314987  0.646129  0.462123  0.296827\n",
       "4  0.104408  0.838501  0.674319  0.385195  0.234988\n",
       "5  0.179697  0.911814  0.014826  0.815827  0.615458\n",
       "6  0.291339  0.411966  0.720349  0.430866  0.601203\n",
       "7  0.712620  0.247945  0.069051  0.325165  0.303177\n",
       "8  0.588716  0.977426  0.223147  0.957699  0.400417\n",
       "9  0.827807  0.058257  0.864668  0.058263  0.637532"
      ]
     },
     "execution_count": 17,
     "metadata": {},
     "output_type": "execute_result"
    }
   ],
   "source": [
    "df"
   ]
  },
  {
   "cell_type": "code",
   "execution_count": 18,
   "metadata": {},
   "outputs": [],
   "source": [
    "df[\"A\"][0] = 32"
   ]
  },
  {
   "cell_type": "code",
   "execution_count": 19,
   "metadata": {},
   "outputs": [
    {
     "data": {
      "text/html": [
       "<div>\n",
       "<style scoped>\n",
       "    .dataframe tbody tr th:only-of-type {\n",
       "        vertical-align: middle;\n",
       "    }\n",
       "\n",
       "    .dataframe tbody tr th {\n",
       "        vertical-align: top;\n",
       "    }\n",
       "\n",
       "    .dataframe thead th {\n",
       "        text-align: right;\n",
       "    }\n",
       "</style>\n",
       "<table border=\"1\" class=\"dataframe\">\n",
       "  <thead>\n",
       "    <tr style=\"text-align: right;\">\n",
       "      <th></th>\n",
       "      <th>A</th>\n",
       "      <th>B</th>\n",
       "      <th>C</th>\n",
       "      <th>D</th>\n",
       "      <th>E</th>\n",
       "    </tr>\n",
       "  </thead>\n",
       "  <tbody>\n",
       "    <tr>\n",
       "      <th>0</th>\n",
       "      <td>32.000000</td>\n",
       "      <td>0.130891</td>\n",
       "      <td>0.509369</td>\n",
       "      <td>0.136445</td>\n",
       "      <td>0.722769</td>\n",
       "    </tr>\n",
       "    <tr>\n",
       "      <th>1</th>\n",
       "      <td>0.607628</td>\n",
       "      <td>0.134065</td>\n",
       "      <td>0.724415</td>\n",
       "      <td>0.449159</td>\n",
       "      <td>0.637639</td>\n",
       "    </tr>\n",
       "    <tr>\n",
       "      <th>2</th>\n",
       "      <td>0.360570</td>\n",
       "      <td>0.075265</td>\n",
       "      <td>0.504686</td>\n",
       "      <td>0.698314</td>\n",
       "      <td>0.308421</td>\n",
       "    </tr>\n",
       "    <tr>\n",
       "      <th>3</th>\n",
       "      <td>0.094024</td>\n",
       "      <td>0.314987</td>\n",
       "      <td>0.646129</td>\n",
       "      <td>0.462123</td>\n",
       "      <td>0.296827</td>\n",
       "    </tr>\n",
       "    <tr>\n",
       "      <th>4</th>\n",
       "      <td>0.104408</td>\n",
       "      <td>0.838501</td>\n",
       "      <td>0.674319</td>\n",
       "      <td>0.385195</td>\n",
       "      <td>0.234988</td>\n",
       "    </tr>\n",
       "    <tr>\n",
       "      <th>5</th>\n",
       "      <td>0.179697</td>\n",
       "      <td>0.911814</td>\n",
       "      <td>0.014826</td>\n",
       "      <td>0.815827</td>\n",
       "      <td>0.615458</td>\n",
       "    </tr>\n",
       "    <tr>\n",
       "      <th>6</th>\n",
       "      <td>0.291339</td>\n",
       "      <td>0.411966</td>\n",
       "      <td>0.720349</td>\n",
       "      <td>0.430866</td>\n",
       "      <td>0.601203</td>\n",
       "    </tr>\n",
       "    <tr>\n",
       "      <th>7</th>\n",
       "      <td>0.712620</td>\n",
       "      <td>0.247945</td>\n",
       "      <td>0.069051</td>\n",
       "      <td>0.325165</td>\n",
       "      <td>0.303177</td>\n",
       "    </tr>\n",
       "    <tr>\n",
       "      <th>8</th>\n",
       "      <td>0.588716</td>\n",
       "      <td>0.977426</td>\n",
       "      <td>0.223147</td>\n",
       "      <td>0.957699</td>\n",
       "      <td>0.400417</td>\n",
       "    </tr>\n",
       "    <tr>\n",
       "      <th>9</th>\n",
       "      <td>0.827807</td>\n",
       "      <td>0.058257</td>\n",
       "      <td>0.864668</td>\n",
       "      <td>0.058263</td>\n",
       "      <td>0.637532</td>\n",
       "    </tr>\n",
       "  </tbody>\n",
       "</table>\n",
       "</div>"
      ],
      "text/plain": [
       "           A         B         C         D         E\n",
       "0  32.000000  0.130891  0.509369  0.136445  0.722769\n",
       "1   0.607628  0.134065  0.724415  0.449159  0.637639\n",
       "2   0.360570  0.075265  0.504686  0.698314  0.308421\n",
       "3   0.094024  0.314987  0.646129  0.462123  0.296827\n",
       "4   0.104408  0.838501  0.674319  0.385195  0.234988\n",
       "5   0.179697  0.911814  0.014826  0.815827  0.615458\n",
       "6   0.291339  0.411966  0.720349  0.430866  0.601203\n",
       "7   0.712620  0.247945  0.069051  0.325165  0.303177\n",
       "8   0.588716  0.977426  0.223147  0.957699  0.400417\n",
       "9   0.827807  0.058257  0.864668  0.058263  0.637532"
      ]
     },
     "execution_count": 19,
     "metadata": {},
     "output_type": "execute_result"
    }
   ],
   "source": [
    "df"
   ]
  },
  {
   "cell_type": "code",
   "execution_count": 20,
   "metadata": {},
   "outputs": [],
   "source": [
    "df.columns = list(\"SAPEK\")\n"
   ]
  },
  {
   "cell_type": "code",
   "execution_count": 21,
   "metadata": {},
   "outputs": [],
   "source": [
    "df[\"S\"][0] = 0.2312313123"
   ]
  },
  {
   "cell_type": "code",
   "execution_count": 22,
   "metadata": {},
   "outputs": [],
   "source": [
    "df_nan = df[df[[\"S\",\"A\",\"P\",\"E\",\"K\"]] > 0.4]"
   ]
  },
  {
   "cell_type": "code",
   "execution_count": 23,
   "metadata": {},
   "outputs": [
    {
     "data": {
      "text/plain": [
       "S    6\n",
       "A    6\n",
       "P    3\n",
       "E    4\n",
       "K    4\n",
       "dtype: int64"
      ]
     },
     "execution_count": 23,
     "metadata": {},
     "output_type": "execute_result"
    }
   ],
   "source": [
    "df_nan.isna().sum()[df_nan.isna().any()]"
   ]
  },
  {
   "cell_type": "code",
   "execution_count": 24,
   "metadata": {},
   "outputs": [],
   "source": [
    "column_names = list(\"ABCDEFGH\")\n",
    "df2 = pd.DataFrame(np.random.randint(1,100,(10,len(column_names))),columns= column_names)"
   ]
  },
  {
   "cell_type": "code",
   "execution_count": 31,
   "metadata": {},
   "outputs": [],
   "source": [
    "type(df2[list(\"ABCDEFGH\")] > 55)\n",
    "df2_nan = df2[df2[list(\"ABCDEFGH\")] > 55]"
   ]
  },
  {
   "cell_type": "code",
   "execution_count": 30,
   "metadata": {},
   "outputs": [
    {
     "data": {
      "text/html": [
       "<div>\n",
       "<style scoped>\n",
       "    .dataframe tbody tr th:only-of-type {\n",
       "        vertical-align: middle;\n",
       "    }\n",
       "\n",
       "    .dataframe tbody tr th {\n",
       "        vertical-align: top;\n",
       "    }\n",
       "\n",
       "    .dataframe thead th {\n",
       "        text-align: right;\n",
       "    }\n",
       "</style>\n",
       "<table border=\"1\" class=\"dataframe\">\n",
       "  <thead>\n",
       "    <tr style=\"text-align: right;\">\n",
       "      <th></th>\n",
       "      <th>A</th>\n",
       "      <th>B</th>\n",
       "      <th>C</th>\n",
       "      <th>D</th>\n",
       "      <th>E</th>\n",
       "      <th>F</th>\n",
       "      <th>G</th>\n",
       "      <th>H</th>\n",
       "    </tr>\n",
       "  </thead>\n",
       "  <tbody>\n",
       "    <tr>\n",
       "      <th>0</th>\n",
       "      <td>NaN</td>\n",
       "      <td>NaN</td>\n",
       "      <td>NaN</td>\n",
       "      <td>58.0</td>\n",
       "      <td>NaN</td>\n",
       "      <td>66.0</td>\n",
       "      <td>65.0</td>\n",
       "      <td>NaN</td>\n",
       "    </tr>\n",
       "    <tr>\n",
       "      <th>1</th>\n",
       "      <td>64.0</td>\n",
       "      <td>80.0</td>\n",
       "      <td>NaN</td>\n",
       "      <td>81.0</td>\n",
       "      <td>NaN</td>\n",
       "      <td>83.0</td>\n",
       "      <td>84.0</td>\n",
       "      <td>91.0</td>\n",
       "    </tr>\n",
       "    <tr>\n",
       "      <th>2</th>\n",
       "      <td>71.0</td>\n",
       "      <td>91.0</td>\n",
       "      <td>NaN</td>\n",
       "      <td>NaN</td>\n",
       "      <td>91.0</td>\n",
       "      <td>81.0</td>\n",
       "      <td>NaN</td>\n",
       "      <td>NaN</td>\n",
       "    </tr>\n",
       "    <tr>\n",
       "      <th>3</th>\n",
       "      <td>NaN</td>\n",
       "      <td>NaN</td>\n",
       "      <td>58.0</td>\n",
       "      <td>92.0</td>\n",
       "      <td>NaN</td>\n",
       "      <td>90.0</td>\n",
       "      <td>95.0</td>\n",
       "      <td>NaN</td>\n",
       "    </tr>\n",
       "    <tr>\n",
       "      <th>4</th>\n",
       "      <td>65.0</td>\n",
       "      <td>NaN</td>\n",
       "      <td>NaN</td>\n",
       "      <td>84.0</td>\n",
       "      <td>NaN</td>\n",
       "      <td>NaN</td>\n",
       "      <td>80.0</td>\n",
       "      <td>NaN</td>\n",
       "    </tr>\n",
       "    <tr>\n",
       "      <th>5</th>\n",
       "      <td>NaN</td>\n",
       "      <td>NaN</td>\n",
       "      <td>NaN</td>\n",
       "      <td>NaN</td>\n",
       "      <td>58.0</td>\n",
       "      <td>94.0</td>\n",
       "      <td>94.0</td>\n",
       "      <td>56.0</td>\n",
       "    </tr>\n",
       "    <tr>\n",
       "      <th>6</th>\n",
       "      <td>NaN</td>\n",
       "      <td>92.0</td>\n",
       "      <td>85.0</td>\n",
       "      <td>95.0</td>\n",
       "      <td>81.0</td>\n",
       "      <td>90.0</td>\n",
       "      <td>NaN</td>\n",
       "      <td>NaN</td>\n",
       "    </tr>\n",
       "    <tr>\n",
       "      <th>7</th>\n",
       "      <td>84.0</td>\n",
       "      <td>NaN</td>\n",
       "      <td>NaN</td>\n",
       "      <td>NaN</td>\n",
       "      <td>NaN</td>\n",
       "      <td>78.0</td>\n",
       "      <td>NaN</td>\n",
       "      <td>NaN</td>\n",
       "    </tr>\n",
       "    <tr>\n",
       "      <th>8</th>\n",
       "      <td>NaN</td>\n",
       "      <td>89.0</td>\n",
       "      <td>NaN</td>\n",
       "      <td>NaN</td>\n",
       "      <td>61.0</td>\n",
       "      <td>NaN</td>\n",
       "      <td>97.0</td>\n",
       "      <td>NaN</td>\n",
       "    </tr>\n",
       "    <tr>\n",
       "      <th>9</th>\n",
       "      <td>NaN</td>\n",
       "      <td>63.0</td>\n",
       "      <td>NaN</td>\n",
       "      <td>NaN</td>\n",
       "      <td>78.0</td>\n",
       "      <td>NaN</td>\n",
       "      <td>84.0</td>\n",
       "      <td>NaN</td>\n",
       "    </tr>\n",
       "  </tbody>\n",
       "</table>\n",
       "</div>"
      ],
      "text/plain": [
       "      A     B     C     D     E     F     G     H\n",
       "0   NaN   NaN   NaN  58.0   NaN  66.0  65.0   NaN\n",
       "1  64.0  80.0   NaN  81.0   NaN  83.0  84.0  91.0\n",
       "2  71.0  91.0   NaN   NaN  91.0  81.0   NaN   NaN\n",
       "3   NaN   NaN  58.0  92.0   NaN  90.0  95.0   NaN\n",
       "4  65.0   NaN   NaN  84.0   NaN   NaN  80.0   NaN\n",
       "5   NaN   NaN   NaN   NaN  58.0  94.0  94.0  56.0\n",
       "6   NaN  92.0  85.0  95.0  81.0  90.0   NaN   NaN\n",
       "7  84.0   NaN   NaN   NaN   NaN  78.0   NaN   NaN\n",
       "8   NaN  89.0   NaN   NaN  61.0   NaN  97.0   NaN\n",
       "9   NaN  63.0   NaN   NaN  78.0   NaN  84.0   NaN"
      ]
     },
     "execution_count": 30,
     "metadata": {},
     "output_type": "execute_result"
    }
   ],
   "source": [
    "df2_nan"
   ]
  },
  {
   "cell_type": "markdown",
   "metadata": {},
   "source": [
    "Best way to imagine how a DataFrame is created."
   ]
  },
  {
   "cell_type": "code",
   "execution_count": 32,
   "metadata": {},
   "outputs": [],
   "source": [
    "# Sample DataFrame\n",
    "data = {'A': [1, 2, 3], 'B': [4, 5, 6]}\n",
    "df = pd.DataFrame(data)"
   ]
  },
  {
   "cell_type": "code",
   "execution_count": 33,
   "metadata": {},
   "outputs": [
    {
     "data": {
      "text/html": [
       "<div>\n",
       "<style scoped>\n",
       "    .dataframe tbody tr th:only-of-type {\n",
       "        vertical-align: middle;\n",
       "    }\n",
       "\n",
       "    .dataframe tbody tr th {\n",
       "        vertical-align: top;\n",
       "    }\n",
       "\n",
       "    .dataframe thead th {\n",
       "        text-align: right;\n",
       "    }\n",
       "</style>\n",
       "<table border=\"1\" class=\"dataframe\">\n",
       "  <thead>\n",
       "    <tr style=\"text-align: right;\">\n",
       "      <th></th>\n",
       "      <th>A</th>\n",
       "      <th>B</th>\n",
       "    </tr>\n",
       "  </thead>\n",
       "  <tbody>\n",
       "    <tr>\n",
       "      <th>0</th>\n",
       "      <td>1</td>\n",
       "      <td>4</td>\n",
       "    </tr>\n",
       "    <tr>\n",
       "      <th>1</th>\n",
       "      <td>2</td>\n",
       "      <td>5</td>\n",
       "    </tr>\n",
       "    <tr>\n",
       "      <th>2</th>\n",
       "      <td>3</td>\n",
       "      <td>6</td>\n",
       "    </tr>\n",
       "  </tbody>\n",
       "</table>\n",
       "</div>"
      ],
      "text/plain": [
       "   A  B\n",
       "0  1  4\n",
       "1  2  5\n",
       "2  3  6"
      ]
     },
     "execution_count": 33,
     "metadata": {},
     "output_type": "execute_result"
    }
   ],
   "source": [
    "df"
   ]
  }
 ],
 "metadata": {
  "kernelspec": {
   "display_name": "Python 3",
   "language": "python",
   "name": "python3"
  },
  "language_info": {
   "codemirror_mode": {
    "name": "ipython",
    "version": 3
   },
   "file_extension": ".py",
   "mimetype": "text/x-python",
   "name": "python",
   "nbconvert_exporter": "python",
   "pygments_lexer": "ipython3",
   "version": "3.10.12"
  }
 },
 "nbformat": 4,
 "nbformat_minor": 2
}
