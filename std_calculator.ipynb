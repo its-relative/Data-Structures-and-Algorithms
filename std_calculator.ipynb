{
 "cells": [
  {
   "cell_type": "code",
   "execution_count": 43,
   "metadata": {},
   "outputs": [
    {
     "name": "stdout",
     "output_type": "stream",
     "text": [
      "Hiss\n"
     ]
    }
   ],
   "source": [
    "print(\"Hiss\")"
   ]
  },
  {
   "cell_type": "code",
   "execution_count": 53,
   "metadata": {},
   "outputs": [
    {
     "name": "stdout",
     "output_type": "stream",
     "text": [
      "List of entered numbers: [10, 11, 12, 9, 8]\n",
      "1.4142135623730951\n",
      "10.0\n",
      "stn 10.0\n",
      "stn 1.4142135623730951\n",
      "[0.0, 0.7071067811865475, 1.414213562373095, -0.7071067811865475, -1.414213562373095]\n",
      "[-2.0, -1.75, -1.5, -1.25, -1.0]\n"
     ]
    }
   ],
   "source": [
    "def get_numbers():\n",
    "    numbers = []\n",
    "    while True:\n",
    "        try:\n",
    "            input_str = input(\"Enter a number (press Enter twice to finish): \")\n",
    "            if input_str == \"\":\n",
    "                break\n",
    "            num = int(input_str)\n",
    "            numbers.append(num)\n",
    "        except ValueError:\n",
    "            print(\"Invalid input. Please enter a valid number.\")\n",
    "\n",
    "    return numbers\n",
    "\n",
    "def mean(arr):\n",
    "    sum = 0\n",
    "    div = len(arr)\n",
    "    for i in range(len(arr)):\n",
    "        sum += arr[i]\n",
    "\n",
    "    # mean_of = int(sum)/len(arr)\n",
    "    # return mean_of\n",
    "    return int(sum)/len(arr)\n",
    "\n",
    "\n",
    "def std(arr):\n",
    "    x = []\n",
    "    sum_std = 0\n",
    "    mean_val = mean(arr)\n",
    "    for i in range(len(arr)):\n",
    "        sum_std += (arr[i] - mean_val)**2\n",
    "    # variance = sum_std / len(arr)\n",
    "    # standard_deviation = int(variance)**0.5\n",
    "    return (sum_std / len(arr))**0.5\n",
    "\n",
    "\n",
    "\n",
    "\n",
    "def standardized_list(arr):\n",
    "    newlist=[]\n",
    "    # for item in range(len(arr)) :\n",
    "        # newlist.append(((item - mean(arr))/std(arr)))\n",
    "    # return newlist\n",
    "    print(\"stn\",mean(arr) )\n",
    "    print(\"stn\", std(arr))\n",
    "    return [(x-mean(arr))/std(arr) for x in arr]\n",
    "\n",
    "def normalized_list(arr):\n",
    "    new_list = []\n",
    "    for nums in range(len(arr)):\n",
    "        new_list.append(((nums-min(arr))/(max(arr)-min(arr))))\n",
    "    return new_list\n",
    "\n",
    "\n",
    "number_list = get_numbers()\n",
    "print(\"List of entered numbers:\", number_list)\n",
    "\n",
    "# h = std(number_list)\n",
    "print(std(number_list))\n",
    "# manner = mean(number_list)\n",
    "print(mean(number_list))\n",
    "print(standardized_list(number_list))\n",
    "print(normalized_list(number_list))\n",
    "\n",
    "\n"
   ]
  },
  {
   "cell_type": "code",
   "execution_count": 49,
   "metadata": {},
   "outputs": [
    {
     "name": "stdout",
     "output_type": "stream",
     "text": [
      "['-0.8150', '0.6403', '-0.3299', '-1.1060', '1.6105']\n"
     ]
    }
   ],
   "source": [
    "newlist = []\n",
    "arr = [25, 40, 30, 22, 50]  # Example data\n",
    "\n",
    "mean_value = sum(arr) / len(arr)\n",
    "std_deviation = (sum((x - mean_value) ** 2 for x in arr) / len(arr)) ** 0.5\n",
    "\n",
    "for item in arr:\n",
    "    scaled_value = (item - mean_value) / std_deviation\n",
    "    scaled_value_formatted = \"{:.4f}\".format(scaled_value)\n",
    "    newlist.append(scaled_value_formatted)\n",
    "\n",
    "print(newlist)\n"
   ]
  }
 ],
 "metadata": {
  "kernelspec": {
   "display_name": "Python 3",
   "language": "python",
   "name": "python3"
  },
  "language_info": {
   "codemirror_mode": {
    "name": "ipython",
    "version": 3
   },
   "file_extension": ".py",
   "mimetype": "text/x-python",
   "name": "python",
   "nbconvert_exporter": "python",
   "pygments_lexer": "ipython3",
   "version": "3.10.12"
  },
  "orig_nbformat": 4
 },
 "nbformat": 4,
 "nbformat_minor": 2
}
