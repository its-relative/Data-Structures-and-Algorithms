{
 "cells": [
  {
   "cell_type": "code",
   "execution_count": 14,
   "metadata": {},
   "outputs": [
    {
     "name": "stdout",
     "output_type": "stream",
     "text": [
      "17:45:43\n"
     ]
    }
   ],
   "source": [
    "#!/bin/python3\n",
    "\n",
    "# import math\n",
    "# import os\n",
    "# import random\n",
    "# import re\n",
    "# import sys\n",
    "\n",
    "#\n",
    "# Complete the 'timeConversion' function below.\n",
    "#\n",
    "# The function is expected to return a STRING.\n",
    "# The function accepts STRING s as parameter.\n",
    "#\n",
    "\n",
    "def timeConversion(s):\n",
    "    meridian = s[-2:]\n",
    "    if meridian == \"PM\" and s[:2] != 12:\n",
    "        # print(\"yes\")\n",
    "        s = str(12 + int(s[:2])) + s[2:]\n",
    "    elif meridian == \"AM\" and s[:2] == 12:\n",
    "        # print(\"NO\")\n",
    "        s = \"00\" + s[2:]   \n",
    "    return s[:-2] \n",
    "if __name__ == '__main__':\n",
    "\n",
    "    s = input()\n",
    "\n",
    "    result = timeConversion(s)\n",
    "    print(result)\n",
    "\n",
    "# s = \"05:34:25PM\"\n",
    "# meridian = s[:-2]\n",
    "# if meridian == \"PM\" and s[:2] != 12:\n",
    "#     print(\"yes\")\n",
    "#     s = str(12 + int(s[:2])) + s[2:]\n",
    "# elif meridian == \"AM\" and s[:2] == 12:\n",
    "    # print(\"NO\")\n",
    "    # s = \"00\" + s[2:]"
   ]
  }
 ],
 "metadata": {
  "kernelspec": {
   "display_name": "Python 3",
   "language": "python",
   "name": "python3"
  },
  "language_info": {
   "codemirror_mode": {
    "name": "ipython",
    "version": 3
   },
   "file_extension": ".py",
   "mimetype": "text/x-python",
   "name": "python",
   "nbconvert_exporter": "python",
   "pygments_lexer": "ipython3",
   "version": "3.10.12"
  },
  "orig_nbformat": 4
 },
 "nbformat": 4,
 "nbformat_minor": 2
}
