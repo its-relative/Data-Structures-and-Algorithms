{
 "cells": [
  {
   "cell_type": "markdown",
   "metadata": {},
   "source": [
    "# Lets use unpack feature in functions, lists, tuples and stuff"
   ]
  },
  {
   "cell_type": "code",
   "execution_count": 4,
   "metadata": {},
   "outputs": [
    {
     "name": "stdout",
     "output_type": "stream",
     "text": [
      "50\n"
     ]
    }
   ],
   "source": [
    "def add(*m):\n",
    "    return sum(m)\n",
    "x = add(10,11,12,9,8)\n",
    "print(x)\n"
   ]
  },
  {
   "cell_type": "markdown",
   "metadata": {},
   "source": [
    "This is how it looks at the first hand. Here\n",
    "we have a simple example where we add multiple numbers by unpacking\n",
    "them in a function. "
   ]
  },
  {
   "cell_type": "markdown",
   "metadata": {},
   "source": [
    "## Now lets try and unpack a list and put it in the function?"
   ]
  },
  {
   "cell_type": "markdown",
   "metadata": {},
   "source": [
    "This won't work because the add function takes num_list as only one argument\n",
    "```python\n",
    "def add(*numbers):\n",
    "    return sum(numbers)\n",
    "\n",
    "num_list = [10,9,8,11,12]\n",
    "\n",
    "print(\"Sum of numbers is: \",add(num_list)) \n",
    "\n",
    "```\n",
    " while it was unpacked in the add function using\n",
    " ```py\n",
    " def add(*numbers):\n",
    " ```\n",
    " but still because only one argument was given to function it didn't take the whole list.\n",
    "\n",
    " ### So do this instead"
   ]
  },
  {
   "cell_type": "code",
   "execution_count": 10,
   "metadata": {},
   "outputs": [
    {
     "name": "stdout",
     "output_type": "stream",
     "text": [
      "Sum of numbers is:  50\n"
     ]
    }
   ],
   "source": [
    "def add(*numbers):\n",
    "    return sum(numbers)\n",
    "\n",
    "num_list = [10,9,8,11,12]\n",
    "print(\"Sum of numbers is: \",add(*num_list)) "
   ]
  },
  {
   "cell_type": "markdown",
   "metadata": {},
   "source": [
    "## Same goes with tuples"
   ]
  },
  {
   "cell_type": "code",
   "execution_count": 1,
   "metadata": {},
   "outputs": [
    {
     "name": "stdout",
     "output_type": "stream",
     "text": [
      "Sum of numbers is:  50\n"
     ]
    }
   ],
   "source": [
    "def add(*numbers):\n",
    "    return sum(numbers)\n",
    "\n",
    "num_list = (10,9,8,11,12)\n",
    "print(\"Sum of numbers is: \",add(*num_list)) "
   ]
  },
  {
   "cell_type": "markdown",
   "metadata": {},
   "source": [
    "Question:\n",
    "Write a function find_average that calculates the average of a variable number of scores. The function should take any number of arguments representing scores and return the calculated average.\n",
    "\n",
    "Example:\n",
    "For the input scores 95, 87, 92, 78, 85, the function should return the average 87.4.\n",
    "\n",
    "Hints: are hidden below\n",
    "\n",
    "<!-- 1 . Use the *args parameter to collect all the scores passed to the \n",
    "function.\n",
    "2 . Calculate the sum of the scores using the sum function.\n",
    "3 . Divide the sum by the number of scores to get the average. -->\n",
    "\n"
   ]
  },
  {
   "cell_type": "code",
   "execution_count": 8,
   "metadata": {},
   "outputs": [
    {
     "name": "stdout",
     "output_type": "stream",
     "text": [
      "87.4\n"
     ]
    }
   ],
   "source": [
    "def find_average(*numbers):\n",
    "    # average = sum(*numbers)/len(*numbers)\n",
    "    average = sum(numbers)/len(numbers)\n",
    "\n",
    "    return average\n",
    "\n",
    "number_list = [95,87,92,78,85]\n",
    "print(find_average(*number_list))\n",
    "# print(sum(number_list)/len(number_list)) # to check whether \n",
    "# the answer is correct"
   ]
  },
  {
   "cell_type": "markdown",
   "metadata": {},
   "source": [
    "```py\n",
    "def find_average(*numbers):\n",
    "    average = sum(*numbers)/len(*numbers)\n",
    "    return average\n",
    "\n",
    "number_list = [95,87,92,78,85]\n",
    "print(find_average(*number_list))\n",
    "```\n",
    "## This won't work\n",
    "why this wont work is because sum expects a list or a tuple not \n",
    "multiple iterable arguments which * gives... what I did is logical\n",
    "but not correct"
   ]
  }
 ],
 "metadata": {
  "kernelspec": {
   "display_name": "Python 3",
   "language": "python",
   "name": "python3"
  },
  "language_info": {
   "codemirror_mode": {
    "name": "ipython",
    "version": 3
   },
   "file_extension": ".py",
   "mimetype": "text/x-python",
   "name": "python",
   "nbconvert_exporter": "python",
   "pygments_lexer": "ipython3",
   "version": "3.10.12"
  },
  "orig_nbformat": 4
 },
 "nbformat": 4,
 "nbformat_minor": 2
}
